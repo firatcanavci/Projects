{
 "cells": [
  {
   "cell_type": "markdown",
   "id": "0583a0c4",
   "metadata": {},
   "source": [
    "___\n",
    "\n",
    "<p style=\"text-align: center;\"><img src=\"https://techproeducation.com/wp-content/uploads/2022/01/Calisma-Yuzeyi-1-kopya-5-1-768x126.png\" class=\"img-fluid\" alt=\"TECHPRO\"></p>\n",
    "\n",
    "___"
   ]
  },
  {
   "cell_type": "markdown",
   "id": "33f88234",
   "metadata": {},
   "source": [
    "# Proje Adı: Film İncelemesi\n",
    "\n",
    "## Projenin amacı:\n",
    "\n",
    "Bu proje ile mini bir EDA (Exploratory Data Analysis) ve farklı veri görselleştirme kütüphanaleri kullanarak film verilerini incelemek ve farklı filmler arasındaki ilişkileri keşfet amaçlanmıştır.\n",
    "\n",
    "## Veri Seti:\n",
    "\n",
    "Araştırmada 2006-2016 yılları arasındaki yapılmış filmlerin yer aldığı \"IMDB-Movie-Data\"  veri seti kullanılacaktır. Veri seti kısaca yıllara göre IMDB'de en yüksek puan alan filmleri içermektedir. Data setinde her film için aşağıdaki değişkenler yer almaktadır:\n",
    "\n",
    "    Rank\n",
    "    Title\n",
    "    Genre\n",
    "    Description\n",
    "    Director\n",
    "    Actors\n",
    "    Year\n",
    "    Runtime (Minutes)\n",
    "    Rating\n",
    "    Votes\n",
    "    Revenue (Millions)\n",
    "    Metascore\n",
    "    \n",
    "Bu kapsamda aşağıdaki görevleri yapmanız gerekmektedir.\n",
    "    \n",
    "## Görevler :\n",
    "\n",
    "### 1. Veri setini pandas kütüphanesi kullanarak yükleyin ve index sütununu filmin başlığı yapın.\n",
    "\n",
    "### 2. Veri setini tanıyın.\n",
    "\n",
    "### 3. Veri setindeki sütun isimlerini kullanışlı hale getirin (Örn: Kısaltıp küçük harf yapmak gibi)\n",
    "\n",
    "### 4. Missing Value tespit edilsin ve bu kapsamda aşağıdaki şekilde mücadele edilsin.\n",
    "    a.Missing value kontrolü hem pandas hemde missingno kütüphanelerini kullanarak yapın  \n",
    "    b.Yüksek missing value olan değişken içindeki veriler o değişkenin ortalama skoru ile\n",
    "    doldurulsun.\n",
    "    c. Düşük missing value olan değişkendeki gözlemler kaldırılsın.\n",
    "    d. Missing value kontrolü tekrar hem pandas hemde missingno kütüphanelerini kullanarak kontrol edin ve bu data setini yeni bir değişkene atayın.\n",
    "\n",
    "### 5. Temizlenmiş veri seti içinden en yüksek rating e sahip 250 filmi seçerek \"top250\" isminde bir data seti oluşturun ve bunu lokalinize bu isimle kaydedin. Bu yeni data setini tekrar pandas kütüphanesini kullanarak okuyun.\n",
    "\n",
    "### 6. Veri setinin boyutunu ve özelliklerini inceleyin.\n",
    "    a. Veri setinin boyutunu inceleme\n",
    "    b. Veri setinin ilk 5 gözlemine göz atma\n",
    "    c. Random olarak 10 gözleme bakma\n",
    "    d. Veri setinin sütunlarına göz atma\n",
    "    e. Veri setinin özet istatistiklerini görüntüleme\n",
    "\n",
    "### 7. Verilerin doğruluğunun ve eksik değerlerinin olup olmadığını kontrol edin.\n",
    "    a. 4.madde ile benzer şelkilde eksik değerlerinin olup olmadığını kontrol\n",
    "\n",
    "### 8. Verileri görselleştirme:\n",
    "\n",
    "    a. Matplotlib kütüphanesi kullanarak, yıllara göre filmlerin sayısını gösteren bir çizgi grafik çizin.\n",
    "    b. Seaborn kütüphanesi kullanarak, en çok film yapılan 10 türü bar grafiğiyle gösterin.\n",
    "    c. Seaborn ve Plotly kütüphanesi kullanarak, film türlerine göre filmlerin sayısını gösteren iki ayrı pasta grafik çizin.\n",
    "    \n",
    "\n",
    "### 9. İlişkileri görselleştirme:\n",
    "\n",
    "    a. Seaborn kütüphanesi kullanarak, veri setindeki nümerik değişkenlerin korelasyonunu \n",
    "    gösteren bir heatmap çizin.\n",
    "    b. Seaborn ile oyunculardan birden fazla filmde rol alan oyuncuların rol aldıkları film \n",
    "    sayılarına göre ilk 20 oyucuyu görselleştir. Not: Bu soru için kullanılacak data setimiz 936 \n",
    "    satırlık data seti olacak.\n",
    "    c. Plotly kütüphanesi kullanarak, Popüler 250 Filmin rating puanlarına göre hasılatını buble chart ile gösterin .\n",
    "    \n",
    "    \n",
    "\n",
    "### 10. Sonuçları sunma:\n",
    "\n",
    "    Çizilen tüm görsellerle ilgili elde ettiğiniz bulguları buraya yazınız. \n"
   ]
  },
  {
   "cell_type": "markdown",
   "id": "ac4e6773",
   "metadata": {},
   "source": [
    "## 1. Veri setini pandas kütüphanesi kullanarak yükleyin ve index sütununu filmin başlığı yapın"
   ]
  },
  {
   "cell_type": "markdown",
   "id": "b98832d1",
   "metadata": {},
   "source": [
    "## 2. Veri setini tanıyın"
   ]
  },
  {
   "cell_type": "markdown",
   "id": "fc7b9a43",
   "metadata": {},
   "source": [
    "## 3. Veri setindeki sütun isimlerini kullanışlı hale getirin"
   ]
  },
  {
   "cell_type": "markdown",
   "id": "750332aa",
   "metadata": {},
   "source": [
    "## 4. Missing Value tespit edilsin ve bu kapsamda aşağıdaki şekilde mücadele edilsin."
   ]
  },
  {
   "cell_type": "markdown",
   "id": "7be46d91",
   "metadata": {},
   "source": [
    "#### a.Missing value kontrolü hem pandas hemde missingno kütüphanelerini kullanarak yapın"
   ]
  },
  {
   "cell_type": "markdown",
   "id": "55528295",
   "metadata": {},
   "source": [
    "#### b.Yüksek missing value olan değişken içindeki veriler o değişkenin ortalama skoru ile doldurulsun."
   ]
  },
  {
   "cell_type": "markdown",
   "id": "3bf08e59",
   "metadata": {},
   "source": [
    "#### c. Düşük missing value olan değişkendeki gözlemler kaldırılsın."
   ]
  },
  {
   "cell_type": "markdown",
   "id": "8a663eb6",
   "metadata": {},
   "source": [
    "#### d. Missing value kontrolü tekrar hem pandas hemde missingno kütüphanelerini kullanarak kontrol edin ve bu data setini yeni bir değişkene atayın."
   ]
  },
  {
   "cell_type": "markdown",
   "id": "2ef11f6d",
   "metadata": {},
   "source": [
    "## 5. Temizlenmiş veri seti içinden en yüksek rating e sahip 250 filmi seçerek \"top250\" isminde bir data seti oluşturun ve bunu lokalinize bu isimle kaydedin. Ardından bu yeni data setini tekrar pandas kütüphanesini kullanarak okuyun."
   ]
  },
  {
   "cell_type": "markdown",
   "id": "a4759dca",
   "metadata": {},
   "source": [
    "## 6. Veri setinin boyutunu ve özelliklerini inceleyin"
   ]
  },
  {
   "cell_type": "markdown",
   "id": "55bedeff",
   "metadata": {},
   "source": [
    "#### a. Veri setinin boyutunu inceleme"
   ]
  },
  {
   "cell_type": "markdown",
   "id": "016024fd",
   "metadata": {},
   "source": [
    "#### b. Veri setinin ilk 5 gözlemine göz atma"
   ]
  },
  {
   "cell_type": "markdown",
   "id": "9b86e4f3",
   "metadata": {},
   "source": [
    "#### c. Random olarak 10 gözleme bakma"
   ]
  },
  {
   "cell_type": "markdown",
   "id": "8a9060ae",
   "metadata": {},
   "source": [
    "#### d. Veri setinin sütunlarına göz atma"
   ]
  },
  {
   "cell_type": "markdown",
   "id": "7fe4107f",
   "metadata": {},
   "source": [
    "#### e. Veri setinin özet istatistiklerini görüntüleme"
   ]
  },
  {
   "cell_type": "markdown",
   "id": "38b0a770",
   "metadata": {},
   "source": [
    "## 7. Verilerin doğruluğunun ve eksik değerlerinin olup olmadığını kontrol edin.¶\n",
    "\n",
    "Not: 4.madde ile benzer şelkilde kontrol edebilirsiniz."
   ]
  },
  {
   "cell_type": "markdown",
   "id": "30fffe1a",
   "metadata": {},
   "source": [
    "## 8. Verileri görselleştirme:"
   ]
  },
  {
   "cell_type": "markdown",
   "id": "4a3296fd",
   "metadata": {},
   "source": [
    "#### a. Matplotlib kütüphanesi kullanarak, yıllara göre filmlerin sayısını gösteren bir çizgi grafik çizin."
   ]
  },
  {
   "cell_type": "markdown",
   "id": "296b0b5f",
   "metadata": {},
   "source": [
    "#### b. Seaborn kütüphanesi kullanarak, en çok film yapılan 10 türü bar grafiğiyle gösterin."
   ]
  },
  {
   "cell_type": "markdown",
   "id": "6521c319",
   "metadata": {},
   "source": [
    "#### c. Seaborn ve Plotly kütüphanesi kullanarak, film türlerine göre filmlerin sayısını gösteren iki ayrı pasta grafik çizin."
   ]
  },
  {
   "cell_type": "markdown",
   "id": "99fa29fc",
   "metadata": {},
   "source": [
    "## 9. İlişkileri görselleştirme"
   ]
  },
  {
   "cell_type": "markdown",
   "id": "999d70b6",
   "metadata": {},
   "source": [
    "#### a. Seaborn kütüphanesi kullanarak, veri setindeki nümerik değişkenlerin korelasyonunu gösteren bir heatmap çizin."
   ]
  },
  {
   "cell_type": "markdown",
   "id": "5b40f399",
   "metadata": {},
   "source": [
    "#### b. Seaborn ile oyunculardan birden fazla filmde rol alan oyuncuların rol aldıkları film sayılarına göre ilk 20 oyucuyu görselleştir.  \n",
    "\n",
    "#### Not: Bu soru için kullanılacak data setimiz 936 satırlık data seti olacak."
   ]
  },
  {
   "cell_type": "markdown",
   "id": "0030684b",
   "metadata": {},
   "source": [
    "#### c. Plotly kütüphanesi kullanarak, Popüler 250 Filmin rating puanlarına göre hasılatını buble chart ile gösterin ."
   ]
  },
  {
   "cell_type": "markdown",
   "id": "c67cef1b",
   "metadata": {},
   "source": [
    "## 10. Conclusion (Sonuçları sunma)"
   ]
  },
  {
   "cell_type": "markdown",
   "id": "a48bc271",
   "metadata": {},
   "source": []
  },
  {
   "cell_type": "markdown",
   "id": "df4cd133",
   "metadata": {},
   "source": [
    "# T E B R İ K L E R"
   ]
  },
  {
   "cell_type": "markdown",
   "id": "8a14e8b5",
   "metadata": {},
   "source": [
    "___\n",
    "\n",
    "<p style=\"text-align: center;\"><img src=\"https://techproeducation.com/wp-content/uploads/2022/01/Calisma-Yuzeyi-1-kopya-5-1-768x126.png\" class=\"img-fluid\" alt=\"TECHPRO\"></p>\n",
    "\n",
    "___"
   ]
  }
 ],
 "metadata": {
  "hide_input": false,
  "kernelspec": {
   "display_name": "Python 3 (ipykernel)",
   "language": "python",
   "name": "python3"
  },
  "language_info": {
   "codemirror_mode": {
    "name": "ipython",
    "version": 3
   },
   "file_extension": ".py",
   "mimetype": "text/x-python",
   "name": "python",
   "nbconvert_exporter": "python",
   "pygments_lexer": "ipython3",
   "version": "3.10.9"
  },
  "nbTranslate": {
   "displayLangs": [
    "*"
   ],
   "hotkey": "alt-t",
   "langInMainMenu": true,
   "sourceLang": "en",
   "targetLang": "fr",
   "useGoogleTranslate": true
  },
  "toc": {
   "base_numbering": 1,
   "nav_menu": {},
   "number_sections": true,
   "sideBar": true,
   "skip_h1_title": false,
   "title_cell": "Table of Contents",
   "title_sidebar": "Contents",
   "toc_cell": false,
   "toc_position": {},
   "toc_section_display": true,
   "toc_window_display": false
  },
  "varInspector": {
   "cols": {
    "lenName": 16,
    "lenType": 16,
    "lenVar": 40
   },
   "kernels_config": {
    "python": {
     "delete_cmd_postfix": "",
     "delete_cmd_prefix": "del ",
     "library": "var_list.py",
     "varRefreshCmd": "print(var_dic_list())"
    },
    "r": {
     "delete_cmd_postfix": ") ",
     "delete_cmd_prefix": "rm(",
     "library": "var_list.r",
     "varRefreshCmd": "cat(var_dic_list()) "
    }
   },
   "types_to_exclude": [
    "module",
    "function",
    "builtin_function_or_method",
    "instance",
    "_Feature"
   ],
   "window_display": false
  }
 },
 "nbformat": 4,
 "nbformat_minor": 5
}
