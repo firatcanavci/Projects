{
 "cells": [
  {
   "cell_type": "markdown",
   "id": "0583a0c4",
   "metadata": {},
   "source": [
    "___\n",
    "\n",
    "<p style=\"text-align: center;\"><img src=\"https://techproeducation.com/wp-content/uploads/2022/01/Calisma-Yuzeyi-1-kopya-5-1-768x126.png\" class=\"img-fluid\" alt=\"TECHPRO\"></p>\n",
    "\n",
    "___"
   ]
  },
  {
   "cell_type": "markdown",
   "id": "33f88234",
   "metadata": {},
   "source": [
    "# Proje Adı: Film İncelemesi\n",
    "\n",
    "## Projenin amacı:\n",
    "\n",
    "Bu proje ile mini bir EDA (Exploratory Data Analysis) ve farklı veri görselleştirme kütüphanaleri kullanarak film verilerini incelemek ve farklı filmler arasındaki ilişkileri keşfet amaçlanmıştır.\n",
    "\n",
    "## Veri Seti:\n",
    "\n",
    "Araştırmada 2006-2016 yılları arasındaki yapılmış filmlerin yer aldığı \"IMDB-Movie-Data\"  veri seti kullanılacaktır. Veri seti kısaca yıllara göre IMDB'de en yüksek puan alan filmleri içermektedir. Data setinde her film için aşağıdaki değişkenler yer almaktadır:\n",
    "\n",
    "    Rank\n",
    "    Title\n",
    "    Genre\n",
    "    Description\n",
    "    Director\n",
    "    Actors\n",
    "    Year\n",
    "    Runtime (Minutes)\n",
    "    Rating\n",
    "    Votes\n",
    "    Revenue (Millions)\n",
    "    Metascore\n",
    "    \n",
    "Bu kapsamda aşağıdaki görevleri yapmanız gerekmektedir.\n",
    "    \n",
    "## Görevler :\n",
    "\n",
    "### 1. Veri setini pandas kütüphanesi kullanarak yükleyin ve index sütununu filmin başlığı yapın.\n",
    "\n",
    "### 2. Veri setini tanıyın.\n",
    "\n",
    "### 3. Veri setindeki sütun isimlerini kullanışlı hale getirin (Örn: Kısaltıp küçük harf yapmak gibi)\n",
    "\n",
    "### 4. Missing Value tespit edilsin ve bu kapsamda aşağıdaki şekilde mücadele edilsin.\n",
    "    a.Missing value kontrolü hem pandas hemde missingno kütüphanelerini kullanarak yapın  \n",
    "    b.Yüksek missing value olan değişken içindeki veriler o değişkenin ortalama skoru ile\n",
    "    doldurulsun.\n",
    "    c. Düşük missing value olan değişkendeki gözlemler kaldırılsın.\n",
    "    d. Missing value kontrolü tekrar hem pandas hemde missingno kütüphanelerini kullanarak kontrol edin ve bu data setini yeni bir değişkene atayın.\n",
    "\n",
    "### 5. Temizlenmiş veri seti içinden en yüksek rating e sahip 250 filmi seçerek \"top250\" isminde bir data seti oluşturun ve bunu lokalinize bu isimle kaydedin. Bu yeni data setini tekrar pandas kütüphanesini kullanarak okuyun.\n",
    "\n",
    "### 6. Veri setinin boyutunu ve özelliklerini inceleyin.\n",
    "    a. Veri setinin boyutunu inceleme\n",
    "    b. Veri setinin ilk 5 gözlemine göz atma\n",
    "    c. Random olarak 10 gözleme bakma\n",
    "    d. Veri setinin sütunlarına göz atma\n",
    "    e. Veri setinin özet istatistiklerini görüntüleme\n",
    "\n",
    "### 7. Verilerin doğruluğunun ve eksik değerlerinin olup olmadığını kontrol edin.\n",
    "    a. 4.madde ile benzer şelkilde eksik değerlerinin olup olmadığını kontrol\n",
    "\n",
    "### 8. Verileri görselleştirme:\n",
    "\n",
    "    a. Matplotlib kütüphanesi kullanarak, yıllara göre filmlerin sayısını gösteren bir çizgi grafik çizin.\n",
    "    b. Seaborn kütüphanesi kullanarak, en çok film yapılan 10 türü bar grafiğiyle gösterin.\n",
    "    c. Seaborn ve Plotly kütüphanesi kullanarak, film türlerine göre filmlerin sayısını gösteren iki ayrı pasta grafik çizin.\n",
    "    \n",
    "\n",
    "### 9. İlişkileri görselleştirme:\n",
    "\n",
    "    a. Seaborn kütüphanesi kullanarak, veri setindeki nümerik değişkenlerin korelasyonunu \n",
    "    gösteren bir heatmap çizin.\n",
    "    b. Seaborn ile oyunculardan birden fazla filmde rol alan oyuncuların rol aldıkları film \n",
    "    sayılarına göre ilk 20 oyucuyu görselleştir. Not: Bu soru için kullanılacak data setimiz 936 \n",
    "    satırlık data seti olacak.\n",
    "    c. Plotly kütüphanesi kullanarak, Popüler 250 Filmin rating puanlarına göre hasılatını buble chart ile gösterin .\n",
    "    \n",
    "    \n",
    "\n",
    "### 10. Sonuçları sunma:\n",
    "\n",
    "    Çizilen tüm görsellerle ilgili elde ettiğiniz bulguları buraya yazınız. \n"
   ]
  },
  {
   "cell_type": "markdown",
   "id": "ac4e6773",
   "metadata": {},
   "source": [
    "## 1. Veri setini pandas kütüphanesi kullanarak yükleyin ve index sütununu filmin başlığı yapın"
   ]
  },
  {
   "cell_type": "markdown",
   "id": "b98832d1",
   "metadata": {},
   "source": [
    "## 2. Veri setini tanıyın"
   ]
  },
  {
   "cell_type": "markdown",
   "id": "fc7b9a43",
   "metadata": {},
   "source": [
    "## 3. Veri setindeki sütun isimlerini kullanışlı hale getirin"
   ]
  },
  {
   "cell_type": "markdown",
   "id": "750332aa",
   "metadata": {},
   "source": [
    "## 4. Missing Value tespit edilsin ve bu kapsamda aşağıdaki şekilde mücadele edilsin."
   ]
  },
  {
   "cell_type": "markdown",
   "id": "7be46d91",
   "metadata": {},
   "source": [
    "#### a.Missing value kontrolü hem pandas hemde missingno kütüphanelerini kullanarak yapın"
   ]
  },
  {
   "cell_type": "markdown",
   "id": "55528295",
   "metadata": {},
   "source": [
    "#### b.Yüksek missing value olan değişken içindeki veriler o değişkenin ortalama skoru ile doldurulsun."
   ]
  },
  {
   "cell_type": "markdown",
   "id": "3bf08e59",
   "metadata": {},
   "source": [
    "#### c. Düşük missing value olan değişkendeki gözlemler kaldırılsın."
   ]
  },
  {
   "cell_type": "markdown",
   "id": "8a663eb6",
   "metadata": {},
   "source": [
    "#### d. Missing value kontrolü tekrar hem pandas hemde missingno kütüphanelerini kullanarak kontrol edin ve bu data setini yeni bir değişkene atayın."
   ]
  },
  {
   "cell_type": "markdown",
   "id": "2ef11f6d",
   "metadata": {},
   "source": [
    "## 5. Temizlenmiş veri seti içinden en yüksek rating e sahip 250 filmi seçerek \"top250\" isminde bir data seti oluşturun ve bunu lokalinize bu isimle kaydedin. Ardından bu yeni data setini tekrar pandas kütüphanesini kullanarak okuyun."
   ]
  },
  {
   "cell_type": "markdown",
   "id": "a4759dca",
   "metadata": {},
   "source": [
    "## 6. Veri setinin boyutunu ve özelliklerini inceleyin"
   ]
  },
  {
   "cell_type": "markdown",
   "id": "55bedeff",
   "metadata": {},
   "source": [
    "#### a. Veri setinin boyutunu inceleme"
   ]
  },
  {
   "cell_type": "markdown",
   "id": "016024fd",
   "metadata": {},
   "source": [
    "#### b. Veri setinin ilk 5 gözlemine göz atma"
   ]
  },
  {
   "cell_type": "markdown",
   "id": "9b86e4f3",
   "metadata": {},
   "source": [
    "#### c. Random olarak 10 gözleme bakma"
   ]
  },
  {
   "cell_type": "markdown",
   "id": "8a9060ae",
   "metadata": {},
   "source": [
    "#### d. Veri setinin sütunlarına göz atma"
   ]
  },
  {
   "cell_type": "markdown",
   "id": "7fe4107f",
   "metadata": {},
   "source": [
    "#### e. Veri setinin özet istatistiklerini görüntüleme"
   ]
  },
  {
   "cell_type": "markdown",
   "id": "38b0a770",
   "metadata": {},
   "source": [
    "## 7. Verilerin doğruluğunun ve eksik değerlerinin olup olmadığını kontrol edin.¶\n",
    "\n",
    "Not: 4.madde ile benzer şelkilde kontrol edebilirsiniz."
   ]
  },
  {
   "cell_type": "markdown",
   "id": "30fffe1a",
   "metadata": {},
   "source": [
    "## 8. Verileri görselleştirme:"
   ]
  },
  {
   "cell_type": "markdown",
   "id": "4a3296fd",
   "metadata": {},
   "source": [
    "#### a. Matplotlib kütüphanesi kullanarak, yıllara göre filmlerin sayısını gösteren bir çizgi grafik çizin."
   ]
  },
  {
   "cell_type": "markdown",
   "id": "296b0b5f",
   "metadata": {},
   "source": [
    "#### b. Seaborn kütüphanesi kullanarak, en çok film yapılan 10 türü bar grafiğiyle gösterin."
   ]
  },
  {
   "cell_type": "markdown",
   "id": "6521c319",
   "metadata": {},
   "source": [
    "#### c. Seaborn ve Plotly kütüphanesi kullanarak, film türlerine göre filmlerin sayısını gösteren iki ayrı pasta grafik çizin."
   ]
  },
  {
   "cell_type": "markdown",
   "id": "99fa29fc",
   "metadata": {},
   "source": [
    "## 9. İlişkileri görselleştirme"
   ]
  },
  {
   "cell_type": "markdown",
   "id": "999d70b6",
   "metadata": {},
   "source": [
    "#### a. Seaborn kütüphanesi kullanarak, veri setindeki nümerik değişkenlerin korelasyonunu gösteren bir heatmap çizin."
   ]
  },
  {
   "cell_type": "markdown",
   "id": "5b40f399",
   "metadata": {},
   "source": [
    "#### b. Seaborn ile oyunculardan birden fazla filmde rol alan oyuncuların rol aldıkları film sayılarına göre ilk 20 oyucuyu görselleştir.  \n",
    "\n",
    "#### Not: Bu soru için kullanılacak data setimiz 936 satırlık data seti olacak."
   ]
  },
  {
   "cell_type": "markdown",
   "id": "0030684b",
   "metadata": {},
   "source": [
    "#### c. Plotly kütüphanesi kullanarak, Popüler 250 Filmin rating puanlarına göre hasılatını buble chart ile gösterin ."
   ]
  },
  {
   "cell_type": "markdown",
   "id": "c67cef1b",
   "metadata": {},
   "source": [
    "## 10. Conclusion (Sonuçları sunma)"
   ]
  },
  {
   "cell_type": "markdown",
   "id": "a48bc271",
   "metadata": {},
   "source": []
  },
  {
   "cell_type": "markdown",
   "id": "df4cd133",
   "metadata": {},
   "source": [
    "# T E B R İ K L E R"
   ]
  },
  {
   "cell_type": "code",
   "execution_count": 72,
   "id": "c385d8f1",
   "metadata": {
    "ExecuteTime": {
     "end_time": "2023-05-12T13:52:18.403659Z",
     "start_time": "2023-05-12T13:52:18.387650Z"
    }
   },
   "outputs": [],
   "source": [
    "import pandas as pd\n",
    "import numpy as np\n",
    "import os \n",
    "\n",
    "import matplotlib as mpl\n",
    "import matplotlib.pyplot as plt\n",
    "import seaborn as sns\n",
    "import missingno as msno\n",
    "import plotly.express as px\n",
    "import plotly as py\n",
    "import plotly.graph_objs as go\n",
    "from dash import Dash, dcc, html, Input, Output\n",
    "from wordcloud import WordCloud\n",
    "\n",
    "import warnings\n",
    "warnings.filterwarnings(\"ignore\")"
   ]
  },
  {
   "cell_type": "code",
   "execution_count": 2,
   "id": "912a3d1b",
   "metadata": {
    "ExecuteTime": {
     "end_time": "2023-05-12T12:51:37.244598Z",
     "start_time": "2023-05-12T12:51:37.199671Z"
    }
   },
   "outputs": [],
   "source": [
    "# 1.3.1\n",
    "df = pd.read_csv(\"IMDB-Movie-Data.csv\")\n",
    "df.set_index(\"Title\", inplace = True)"
   ]
  },
  {
   "cell_type": "code",
   "execution_count": 3,
   "id": "57bb2e0e",
   "metadata": {
    "ExecuteTime": {
     "end_time": "2023-05-12T12:51:37.260126Z",
     "start_time": "2023-05-12T12:51:37.246605Z"
    }
   },
   "outputs": [
    {
     "name": "stdout",
     "output_type": "stream",
     "text": [
      "<class 'pandas.core.frame.DataFrame'>\n",
      "Index: 1000 entries, Guardians of the Galaxy to Nine Lives\n",
      "Data columns (total 11 columns):\n",
      " #   Column              Non-Null Count  Dtype  \n",
      "---  ------              --------------  -----  \n",
      " 0   Rank                1000 non-null   int64  \n",
      " 1   Genre               1000 non-null   object \n",
      " 2   Description         1000 non-null   object \n",
      " 3   Director            1000 non-null   object \n",
      " 4   Actors              1000 non-null   object \n",
      " 5   Year                1000 non-null   int64  \n",
      " 6   Runtime (Minutes)   1000 non-null   int64  \n",
      " 7   Rating              1000 non-null   float64\n",
      " 8   Votes               1000 non-null   int64  \n",
      " 9   Revenue (Millions)  872 non-null    float64\n",
      " 10  Metascore           936 non-null    float64\n",
      "dtypes: float64(3), int64(4), object(4)\n",
      "memory usage: 93.8+ KB\n"
     ]
    }
   ],
   "source": [
    "# 1.3.2\n",
    "df.info()"
   ]
  },
  {
   "cell_type": "code",
   "execution_count": 4,
   "id": "c6073e96",
   "metadata": {
    "ExecuteTime": {
     "end_time": "2023-05-12T12:51:37.275702Z",
     "start_time": "2023-05-12T12:51:37.262123Z"
    },
    "code_folding": []
   },
   "outputs": [],
   "source": [
    "#1.3.3\n",
    "df = df.rename(columns = {\"Rank\" : \"rank\", \"Genre\" : \"genre\", \"Description\" : \"description\", \"Director\" : \"director\", \n",
    "                     \"Actors\" : \"actors\", \"Year\" : \"year\", \"Runtime (Minutes)\" : \"runtime\", \"Rating\" : \"rating\",\n",
    "                    \"Votes\" : \"votes\", \"Revenue (Millions)\" : \"revenue\", \"Metascore\" : \"metascore\"})"
   ]
  },
  {
   "cell_type": "code",
   "execution_count": 5,
   "id": "99e82490",
   "metadata": {
    "ExecuteTime": {
     "end_time": "2023-05-12T12:51:37.936264Z",
     "start_time": "2023-05-12T12:51:37.277704Z"
    }
   },
   "outputs": [
    {
     "data": {
      "image/png": "[encoded data removed]",
      "text/plain": [
       "<Figure size 2500x1000 with 3 Axes>"
      ]
     },
     "metadata": {},
     "output_type": "display_data"
    }
   ],
   "source": [
    "#1.3.4 #a\n",
    "msno.bar(df);"
   ]
  },
  {
   "cell_type": "code",
   "execution_count": 6,
   "id": "7d6aa26e",
   "metadata": {
    "ExecuteTime": {
     "end_time": "2023-05-12T12:51:37.951800Z",
     "start_time": "2023-05-12T12:51:37.937265Z"
    }
   },
   "outputs": [
    {
     "data": {
      "text/plain": [
       "rank             0\n",
       "genre            0\n",
       "description      0\n",
       "director         0\n",
       "actors           0\n",
       "year             0\n",
       "runtime          0\n",
       "rating           0\n",
       "votes            0\n",
       "revenue        128\n",
       "metascore       64\n",
       "dtype: int64"
      ]
     },
     "execution_count": 6,
     "metadata": {},
     "output_type": "execute_result"
    }
   ],
   "source": [
    "df.isna().sum()"
   ]
  },
  {
   "cell_type": "code",
   "execution_count": 7,
   "id": "7a08feb4",
   "metadata": {
    "ExecuteTime": {
     "end_time": "2023-05-12T12:51:37.967584Z",
     "start_time": "2023-05-12T12:51:37.953310Z"
    }
   },
   "outputs": [],
   "source": [
    "#1.3.4 #b\n",
    "df.revenue = df.revenue.fillna(df.revenue.mean())"
   ]
  },
  {
   "cell_type": "code",
   "execution_count": 8,
   "id": "c22c14b3",
   "metadata": {
    "ExecuteTime": {
     "end_time": "2023-05-12T12:51:37.983437Z",
     "start_time": "2023-05-12T12:51:37.968589Z"
    }
   },
   "outputs": [],
   "source": [
    "#1.3.4 #c\n",
    "df.dropna(inplace = True)"
   ]
  },
  {
   "cell_type": "code",
   "execution_count": 9,
   "id": "4e6176d3",
   "metadata": {
    "ExecuteTime": {
     "end_time": "2023-05-12T12:51:38.519278Z",
     "start_time": "2023-05-12T12:51:37.984950Z"
    }
   },
   "outputs": [
    {
     "data": {
      "image/png": "[encoded data removed]",
      "text/plain": [
       "<Figure size 2500x1000 with 3 Axes>"
      ]
     },
     "metadata": {},
     "output_type": "display_data"
    }
   ],
   "source": [
    "#1.3.4 #d\n",
    "msno.bar(df);"
   ]
  },
  {
   "cell_type": "code",
   "execution_count": 10,
   "id": "013dcc99",
   "metadata": {
    "ExecuteTime": {
     "end_time": "2023-05-12T12:51:38.534520Z",
     "start_time": "2023-05-12T12:51:38.522282Z"
    }
   },
   "outputs": [
    {
     "data": {
      "text/plain": [
       "rank           0\n",
       "genre          0\n",
       "description    0\n",
       "director       0\n",
       "actors         0\n",
       "year           0\n",
       "runtime        0\n",
       "rating         0\n",
       "votes          0\n",
       "revenue        0\n",
       "metascore      0\n",
       "dtype: int64"
      ]
     },
     "execution_count": 10,
     "metadata": {},
     "output_type": "execute_result"
    }
   ],
   "source": [
    "df.isna().sum()"
   ]
  },
  {
   "cell_type": "code",
   "execution_count": 11,
   "id": "aa9d2bc7",
   "metadata": {
    "ExecuteTime": {
     "end_time": "2023-05-12T12:51:38.550445Z",
     "start_time": "2023-05-12T12:51:38.535532Z"
    }
   },
   "outputs": [],
   "source": [
    "# 1.3.5\n",
    "top250 = df.sort_values(by = [\"rating\"], ascending = False).head(250)"
   ]
  },
  {
   "cell_type": "code",
   "execution_count": 12,
   "id": "adfe59b1",
   "metadata": {
    "ExecuteTime": {
     "end_time": "2023-05-12T12:51:38.565495Z",
     "start_time": "2023-05-12T12:51:38.551445Z"
    }
   },
   "outputs": [
    {
     "data": {
      "text/plain": [
       "(250, 11)"
      ]
     },
     "execution_count": 12,
     "metadata": {},
     "output_type": "execute_result"
    }
   ],
   "source": [
    "# 1.3.6 #a\n",
    "top250.shape"
   ]
  },
  {
   "cell_type": "code",
   "execution_count": 13,
   "id": "e36258da",
   "metadata": {
    "ExecuteTime": {
     "end_time": "2023-05-12T12:51:38.581543Z",
     "start_time": "2023-05-12T12:51:38.566487Z"
    }
   },
   "outputs": [
    {
     "data": {
      "text/html": [
       "<div>\n",
       "<style scoped>\n",
       "    .dataframe tbody tr th:only-of-type {\n",
       "        vertical-align: middle;\n",
       "    }\n",
       "\n",
       "    .dataframe tbody tr th {\n",
       "        vertical-align: top;\n",
       "    }\n",
       "\n",
       "    .dataframe thead th {\n",
       "        text-align: right;\n",
       "    }\n",
       "</style>\n",
       "<table border=\"1\" class=\"dataframe\">\n",
       "  <thead>\n",
       "    <tr style=\"text-align: right;\">\n",
       "      <th></th>\n",
       "      <th>rank</th>\n",
       "      <th>genre</th>\n",
       "      <th>description</th>\n",
       "      <th>director</th>\n",
       "      <th>actors</th>\n",
       "      <th>year</th>\n",
       "      <th>runtime</th>\n",
       "      <th>rating</th>\n",
       "      <th>votes</th>\n",
       "      <th>revenue</th>\n",
       "      <th>metascore</th>\n",
       "    </tr>\n",
       "    <tr>\n",
       "      <th>Title</th>\n",
       "      <th></th>\n",
       "      <th></th>\n",
       "      <th></th>\n",
       "      <th></th>\n",
       "      <th></th>\n",
       "      <th></th>\n",
       "      <th></th>\n",
       "      <th></th>\n",
       "      <th></th>\n",
       "      <th></th>\n",
       "      <th></th>\n",
       "    </tr>\n",
       "  </thead>\n",
       "  <tbody>\n",
       "    <tr>\n",
       "      <th>The Dark Knight</th>\n",
       "      <td>55</td>\n",
       "      <td>Action,Crime,Drama</td>\n",
       "      <td>When the menace known as the Joker wreaks havo...</td>\n",
       "      <td>Christopher Nolan</td>\n",
       "      <td>Christian Bale, Heath Ledger, Aaron Eckhart,Mi...</td>\n",
       "      <td>2008</td>\n",
       "      <td>152</td>\n",
       "      <td>9.0</td>\n",
       "      <td>1791916</td>\n",
       "      <td>533.32</td>\n",
       "      <td>82.0</td>\n",
       "    </tr>\n",
       "    <tr>\n",
       "      <th>Inception</th>\n",
       "      <td>81</td>\n",
       "      <td>Action,Adventure,Sci-Fi</td>\n",
       "      <td>A thief, who steals corporate secrets through ...</td>\n",
       "      <td>Christopher Nolan</td>\n",
       "      <td>Leonardo DiCaprio, Joseph Gordon-Levitt, Ellen...</td>\n",
       "      <td>2010</td>\n",
       "      <td>148</td>\n",
       "      <td>8.8</td>\n",
       "      <td>1583625</td>\n",
       "      <td>292.57</td>\n",
       "      <td>74.0</td>\n",
       "    </tr>\n",
       "    <tr>\n",
       "      <th>Interstellar</th>\n",
       "      <td>37</td>\n",
       "      <td>Adventure,Drama,Sci-Fi</td>\n",
       "      <td>A team of explorers travel through a wormhole ...</td>\n",
       "      <td>Christopher Nolan</td>\n",
       "      <td>Matthew McConaughey, Anne Hathaway, Jessica Ch...</td>\n",
       "      <td>2014</td>\n",
       "      <td>169</td>\n",
       "      <td>8.6</td>\n",
       "      <td>1047747</td>\n",
       "      <td>187.99</td>\n",
       "      <td>74.0</td>\n",
       "    </tr>\n",
       "    <tr>\n",
       "      <th>The Intouchables</th>\n",
       "      <td>250</td>\n",
       "      <td>Biography,Comedy,Drama</td>\n",
       "      <td>After he becomes a quadriplegic from a paragli...</td>\n",
       "      <td>Olivier Nakache</td>\n",
       "      <td>François Cluzet, Omar Sy, Anne Le Ny, Audrey F...</td>\n",
       "      <td>2011</td>\n",
       "      <td>112</td>\n",
       "      <td>8.6</td>\n",
       "      <td>557965</td>\n",
       "      <td>13.18</td>\n",
       "      <td>57.0</td>\n",
       "    </tr>\n",
       "    <tr>\n",
       "      <th>Kimi no na wa</th>\n",
       "      <td>97</td>\n",
       "      <td>Animation,Drama,Fantasy</td>\n",
       "      <td>Two strangers find themselves linked in a biza...</td>\n",
       "      <td>Makoto Shinkai</td>\n",
       "      <td>Ryûnosuke Kamiki, Mone Kamishiraishi, Ryô Nari...</td>\n",
       "      <td>2016</td>\n",
       "      <td>106</td>\n",
       "      <td>8.6</td>\n",
       "      <td>34110</td>\n",
       "      <td>4.68</td>\n",
       "      <td>79.0</td>\n",
       "    </tr>\n",
       "  </tbody>\n",
       "</table>\n",
       "</div>"
      ],
      "text/plain": [
       "                  rank                    genre  \\\n",
       "Title                                             \n",
       "The Dark Knight     55       Action,Crime,Drama   \n",
       "Inception           81  Action,Adventure,Sci-Fi   \n",
       "Interstellar        37   Adventure,Drama,Sci-Fi   \n",
       "The Intouchables   250   Biography,Comedy,Drama   \n",
       "Kimi no na wa       97  Animation,Drama,Fantasy   \n",
       "\n",
       "                                                        description  \\\n",
       "Title                                                                 \n",
       "The Dark Knight   When the menace known as the Joker wreaks havo...   \n",
       "Inception         A thief, who steals corporate secrets through ...   \n",
       "Interstellar      A team of explorers travel through a wormhole ...   \n",
       "The Intouchables  After he becomes a quadriplegic from a paragli...   \n",
       "Kimi no na wa     Two strangers find themselves linked in a biza...   \n",
       "\n",
       "                           director  \\\n",
       "Title                                 \n",
       "The Dark Knight   Christopher Nolan   \n",
       "Inception         Christopher Nolan   \n",
       "Interstellar      Christopher Nolan   \n",
       "The Intouchables    Olivier Nakache   \n",
       "Kimi no na wa        Makoto Shinkai   \n",
       "\n",
       "                                                             actors  year  \\\n",
       "Title                                                                       \n",
       "The Dark Knight   Christian Bale, Heath Ledger, Aaron Eckhart,Mi...  2008   \n",
       "Inception         Leonardo DiCaprio, Joseph Gordon-Levitt, Ellen...  2010   \n",
       "Interstellar      Matthew McConaughey, Anne Hathaway, Jessica Ch...  2014   \n",
       "The Intouchables  François Cluzet, Omar Sy, Anne Le Ny, Audrey F...  2011   \n",
       "Kimi no na wa     Ryûnosuke Kamiki, Mone Kamishiraishi, Ryô Nari...  2016   \n",
       "\n",
       "                  runtime  rating    votes  revenue  metascore  \n",
       "Title                                                           \n",
       "The Dark Knight       152     9.0  1791916   533.32       82.0  \n",
       "Inception             148     8.8  1583625   292.57       74.0  \n",
       "Interstellar          169     8.6  1047747   187.99       74.0  \n",
       "The Intouchables      112     8.6   557965    13.18       57.0  \n",
       "Kimi no na wa         106     8.6    34110     4.68       79.0  "
      ]
     },
     "execution_count": 13,
     "metadata": {},
     "output_type": "execute_result"
    }
   ],
   "source": [
    "# 1.3.6 #b\n",
    "top250.head(5)"
   ]
  },
  {
   "cell_type": "code",
   "execution_count": 14,
   "id": "a6f25067",
   "metadata": {
    "ExecuteTime": {
     "end_time": "2023-05-12T12:51:38.596608Z",
     "start_time": "2023-05-12T12:51:38.582543Z"
    }
   },
   "outputs": [
    {
     "data": {
      "text/html": [
       "<div>\n",
       "<style scoped>\n",
       "    .dataframe tbody tr th:only-of-type {\n",
       "        vertical-align: middle;\n",
       "    }\n",
       "\n",
       "    .dataframe tbody tr th {\n",
       "        vertical-align: top;\n",
       "    }\n",
       "\n",
       "    .dataframe thead th {\n",
       "        text-align: right;\n",
       "    }\n",
       "</style>\n",
       "<table border=\"1\" class=\"dataframe\">\n",
       "  <thead>\n",
       "    <tr style=\"text-align: right;\">\n",
       "      <th></th>\n",
       "      <th>rank</th>\n",
       "      <th>genre</th>\n",
       "      <th>description</th>\n",
       "      <th>director</th>\n",
       "      <th>actors</th>\n",
       "      <th>year</th>\n",
       "      <th>runtime</th>\n",
       "      <th>rating</th>\n",
       "      <th>votes</th>\n",
       "      <th>revenue</th>\n",
       "      <th>metascore</th>\n",
       "    </tr>\n",
       "    <tr>\n",
       "      <th>Title</th>\n",
       "      <th></th>\n",
       "      <th></th>\n",
       "      <th></th>\n",
       "      <th></th>\n",
       "      <th></th>\n",
       "      <th></th>\n",
       "      <th></th>\n",
       "      <th></th>\n",
       "      <th></th>\n",
       "      <th></th>\n",
       "      <th></th>\n",
       "    </tr>\n",
       "  </thead>\n",
       "  <tbody>\n",
       "    <tr>\n",
       "      <th>The Lego Movie</th>\n",
       "      <td>385</td>\n",
       "      <td>Animation,Action,Adventure</td>\n",
       "      <td>An ordinary Lego construction worker, thought ...</td>\n",
       "      <td>Phil Lord</td>\n",
       "      <td>Chris Pratt, Will Ferrell, Elizabeth Banks, Wi...</td>\n",
       "      <td>2014</td>\n",
       "      <td>100</td>\n",
       "      <td>7.8</td>\n",
       "      <td>266508</td>\n",
       "      <td>257.760000</td>\n",
       "      <td>83.0</td>\n",
       "    </tr>\n",
       "    <tr>\n",
       "      <th>The Girl with the Dragon Tattoo</th>\n",
       "      <td>224</td>\n",
       "      <td>Crime,Drama,Mystery</td>\n",
       "      <td>Journalist Mikael Blomkvist is aided in his se...</td>\n",
       "      <td>David Fincher</td>\n",
       "      <td>Daniel Craig, Rooney Mara, Christopher Plummer...</td>\n",
       "      <td>2011</td>\n",
       "      <td>158</td>\n",
       "      <td>7.8</td>\n",
       "      <td>348551</td>\n",
       "      <td>102.520000</td>\n",
       "      <td>71.0</td>\n",
       "    </tr>\n",
       "    <tr>\n",
       "      <th>20th Century Women</th>\n",
       "      <td>248</td>\n",
       "      <td>Comedy,Drama</td>\n",
       "      <td>The story of a teenage boy, his mother, and tw...</td>\n",
       "      <td>Mike Mills</td>\n",
       "      <td>Annette Bening, Elle Fanning, Greta Gerwig, Bi...</td>\n",
       "      <td>2016</td>\n",
       "      <td>119</td>\n",
       "      <td>7.4</td>\n",
       "      <td>14708</td>\n",
       "      <td>5.660000</td>\n",
       "      <td>83.0</td>\n",
       "    </tr>\n",
       "    <tr>\n",
       "      <th>Argo</th>\n",
       "      <td>475</td>\n",
       "      <td>Biography,Drama,History</td>\n",
       "      <td>Acting under the cover of a Hollywood producer...</td>\n",
       "      <td>Ben Affleck</td>\n",
       "      <td>Ben Affleck, Bryan Cranston, John Goodman, Ala...</td>\n",
       "      <td>2012</td>\n",
       "      <td>120</td>\n",
       "      <td>7.7</td>\n",
       "      <td>481274</td>\n",
       "      <td>136.020000</td>\n",
       "      <td>86.0</td>\n",
       "    </tr>\n",
       "    <tr>\n",
       "      <th>The Imitation Game</th>\n",
       "      <td>199</td>\n",
       "      <td>Biography,Drama,Thriller</td>\n",
       "      <td>During World War II, mathematician Alan Turing...</td>\n",
       "      <td>Morten Tyldum</td>\n",
       "      <td>Benedict Cumberbatch, Keira Knightley, Matthew...</td>\n",
       "      <td>2014</td>\n",
       "      <td>114</td>\n",
       "      <td>8.1</td>\n",
       "      <td>532353</td>\n",
       "      <td>91.120000</td>\n",
       "      <td>73.0</td>\n",
       "    </tr>\n",
       "    <tr>\n",
       "      <th>Ratatouille</th>\n",
       "      <td>490</td>\n",
       "      <td>Animation,Comedy,Family</td>\n",
       "      <td>A rat who can cook makes an unusual alliance w...</td>\n",
       "      <td>Brad Bird</td>\n",
       "      <td>Brad Garrett, Lou Romano, Patton Oswalt,Ian Holm</td>\n",
       "      <td>2007</td>\n",
       "      <td>111</td>\n",
       "      <td>8.0</td>\n",
       "      <td>504039</td>\n",
       "      <td>206.440000</td>\n",
       "      <td>96.0</td>\n",
       "    </tr>\n",
       "    <tr>\n",
       "      <th>The Grand Budapest Hotel</th>\n",
       "      <td>239</td>\n",
       "      <td>Adventure,Comedy,Drama</td>\n",
       "      <td>The adventures of Gustave H, a legendary conci...</td>\n",
       "      <td>Wes Anderson</td>\n",
       "      <td>Ralph Fiennes, F. Murray Abraham, Mathieu Amal...</td>\n",
       "      <td>2014</td>\n",
       "      <td>99</td>\n",
       "      <td>8.1</td>\n",
       "      <td>530881</td>\n",
       "      <td>59.070000</td>\n",
       "      <td>88.0</td>\n",
       "    </tr>\n",
       "    <tr>\n",
       "      <th>(500) Days of Summer</th>\n",
       "      <td>508</td>\n",
       "      <td>Comedy,Drama,Romance</td>\n",
       "      <td>An offbeat romantic comedy about a woman who d...</td>\n",
       "      <td>Marc Webb</td>\n",
       "      <td>Zooey Deschanel, Joseph Gordon-Levitt, Geoffre...</td>\n",
       "      <td>2009</td>\n",
       "      <td>95</td>\n",
       "      <td>7.7</td>\n",
       "      <td>398972</td>\n",
       "      <td>32.390000</td>\n",
       "      <td>76.0</td>\n",
       "    </tr>\n",
       "    <tr>\n",
       "      <th>I, Daniel Blake</th>\n",
       "      <td>550</td>\n",
       "      <td>Drama</td>\n",
       "      <td>After having suffered a heart-attack, a 59-yea...</td>\n",
       "      <td>Ken Loach</td>\n",
       "      <td>Dave Johns, Hayley Squires, Sharon Percy, Bria...</td>\n",
       "      <td>2016</td>\n",
       "      <td>100</td>\n",
       "      <td>7.9</td>\n",
       "      <td>22941</td>\n",
       "      <td>82.956376</td>\n",
       "      <td>77.0</td>\n",
       "    </tr>\n",
       "    <tr>\n",
       "      <th>Moneyball</th>\n",
       "      <td>585</td>\n",
       "      <td>Biography,Drama,Sport</td>\n",
       "      <td>Oakland A's general manager Billy Beane's succ...</td>\n",
       "      <td>Bennett Miller</td>\n",
       "      <td>Brad Pitt, Robin Wright, Jonah Hill, Philip Se...</td>\n",
       "      <td>2011</td>\n",
       "      <td>133</td>\n",
       "      <td>7.6</td>\n",
       "      <td>297395</td>\n",
       "      <td>75.610000</td>\n",
       "      <td>87.0</td>\n",
       "    </tr>\n",
       "  </tbody>\n",
       "</table>\n",
       "</div>"
      ],
      "text/plain": [
       "                                 rank                       genre  \\\n",
       "Title                                                               \n",
       "The Lego Movie                    385  Animation,Action,Adventure   \n",
       "The Girl with the Dragon Tattoo   224         Crime,Drama,Mystery   \n",
       "20th Century Women                248                Comedy,Drama   \n",
       "Argo                              475     Biography,Drama,History   \n",
       "The Imitation Game                199    Biography,Drama,Thriller   \n",
       "Ratatouille                       490     Animation,Comedy,Family   \n",
       "The Grand Budapest Hotel          239      Adventure,Comedy,Drama   \n",
       "(500) Days of Summer              508        Comedy,Drama,Romance   \n",
       "I, Daniel Blake                   550                       Drama   \n",
       "Moneyball                         585       Biography,Drama,Sport   \n",
       "\n",
       "                                                                       description  \\\n",
       "Title                                                                                \n",
       "The Lego Movie                   An ordinary Lego construction worker, thought ...   \n",
       "The Girl with the Dragon Tattoo  Journalist Mikael Blomkvist is aided in his se...   \n",
       "20th Century Women               The story of a teenage boy, his mother, and tw...   \n",
       "Argo                             Acting under the cover of a Hollywood producer...   \n",
       "The Imitation Game               During World War II, mathematician Alan Turing...   \n",
       "Ratatouille                      A rat who can cook makes an unusual alliance w...   \n",
       "The Grand Budapest Hotel         The adventures of Gustave H, a legendary conci...   \n",
       "(500) Days of Summer             An offbeat romantic comedy about a woman who d...   \n",
       "I, Daniel Blake                  After having suffered a heart-attack, a 59-yea...   \n",
       "Moneyball                        Oakland A's general manager Billy Beane's succ...   \n",
       "\n",
       "                                       director  \\\n",
       "Title                                             \n",
       "The Lego Movie                        Phil Lord   \n",
       "The Girl with the Dragon Tattoo   David Fincher   \n",
       "20th Century Women                   Mike Mills   \n",
       "Argo                                Ben Affleck   \n",
       "The Imitation Game                Morten Tyldum   \n",
       "Ratatouille                           Brad Bird   \n",
       "The Grand Budapest Hotel           Wes Anderson   \n",
       "(500) Days of Summer                  Marc Webb   \n",
       "I, Daniel Blake                       Ken Loach   \n",
       "Moneyball                        Bennett Miller   \n",
       "\n",
       "                                                                            actors  \\\n",
       "Title                                                                                \n",
       "The Lego Movie                   Chris Pratt, Will Ferrell, Elizabeth Banks, Wi...   \n",
       "The Girl with the Dragon Tattoo  Daniel Craig, Rooney Mara, Christopher Plummer...   \n",
       "20th Century Women               Annette Bening, Elle Fanning, Greta Gerwig, Bi...   \n",
       "Argo                             Ben Affleck, Bryan Cranston, John Goodman, Ala...   \n",
       "The Imitation Game               Benedict Cumberbatch, Keira Knightley, Matthew...   \n",
       "Ratatouille                       Brad Garrett, Lou Romano, Patton Oswalt,Ian Holm   \n",
       "The Grand Budapest Hotel         Ralph Fiennes, F. Murray Abraham, Mathieu Amal...   \n",
       "(500) Days of Summer             Zooey Deschanel, Joseph Gordon-Levitt, Geoffre...   \n",
       "I, Daniel Blake                  Dave Johns, Hayley Squires, Sharon Percy, Bria...   \n",
       "Moneyball                        Brad Pitt, Robin Wright, Jonah Hill, Philip Se...   \n",
       "\n",
       "                                 year  runtime  rating   votes     revenue  \\\n",
       "Title                                                                        \n",
       "The Lego Movie                   2014      100     7.8  266508  257.760000   \n",
       "The Girl with the Dragon Tattoo  2011      158     7.8  348551  102.520000   \n",
       "20th Century Women               2016      119     7.4   14708    5.660000   \n",
       "Argo                             2012      120     7.7  481274  136.020000   \n",
       "The Imitation Game               2014      114     8.1  532353   91.120000   \n",
       "Ratatouille                      2007      111     8.0  504039  206.440000   \n",
       "The Grand Budapest Hotel         2014       99     8.1  530881   59.070000   \n",
       "(500) Days of Summer             2009       95     7.7  398972   32.390000   \n",
       "I, Daniel Blake                  2016      100     7.9   22941   82.956376   \n",
       "Moneyball                        2011      133     7.6  297395   75.610000   \n",
       "\n",
       "                                 metascore  \n",
       "Title                                       \n",
       "The Lego Movie                        83.0  \n",
       "The Girl with the Dragon Tattoo       71.0  \n",
       "20th Century Women                    83.0  \n",
       "Argo                                  86.0  \n",
       "The Imitation Game                    73.0  \n",
       "Ratatouille                           96.0  \n",
       "The Grand Budapest Hotel              88.0  \n",
       "(500) Days of Summer                  76.0  \n",
       "I, Daniel Blake                       77.0  \n",
       "Moneyball                             87.0  "
      ]
     },
     "execution_count": 14,
     "metadata": {},
     "output_type": "execute_result"
    }
   ],
   "source": [
    "# 1.3.6 #c\n",
    "top250.sample(10)"
   ]
  },
  {
   "cell_type": "code",
   "execution_count": 15,
   "id": "82157679",
   "metadata": {
    "ExecuteTime": {
     "end_time": "2023-05-12T12:51:38.612147Z",
     "start_time": "2023-05-12T12:51:38.597608Z"
    }
   },
   "outputs": [
    {
     "data": {
      "text/plain": [
       "Index(['rank', 'genre', 'description', 'director', 'actors', 'year', 'runtime',\n",
       "       'rating', 'votes', 'revenue', 'metascore'],\n",
       "      dtype='object')"
      ]
     },
     "execution_count": 15,
     "metadata": {},
     "output_type": "execute_result"
    }
   ],
   "source": [
    "# 1.3.6 #d\n",
    "top250.columns"
   ]
  },
  {
   "cell_type": "code",
   "execution_count": 16,
   "id": "8c05013c",
   "metadata": {
    "ExecuteTime": {
     "end_time": "2023-05-12T12:51:38.643430Z",
     "start_time": "2023-05-12T12:51:38.613151Z"
    }
   },
   "outputs": [
    {
     "data": {
      "text/html": [
       "<div>\n",
       "<style scoped>\n",
       "    .dataframe tbody tr th:only-of-type {\n",
       "        vertical-align: middle;\n",
       "    }\n",
       "\n",
       "    .dataframe tbody tr th {\n",
       "        vertical-align: top;\n",
       "    }\n",
       "\n",
       "    .dataframe thead th {\n",
       "        text-align: right;\n",
       "    }\n",
       "</style>\n",
       "<table border=\"1\" class=\"dataframe\">\n",
       "  <thead>\n",
       "    <tr style=\"text-align: right;\">\n",
       "      <th></th>\n",
       "      <th>count</th>\n",
       "      <th>mean</th>\n",
       "      <th>std</th>\n",
       "      <th>min</th>\n",
       "      <th>25%</th>\n",
       "      <th>50%</th>\n",
       "      <th>75%</th>\n",
       "      <th>max</th>\n",
       "    </tr>\n",
       "  </thead>\n",
       "  <tbody>\n",
       "    <tr>\n",
       "      <th>rank</th>\n",
       "      <td>250.0</td>\n",
       "      <td>393.252000</td>\n",
       "      <td>276.710882</td>\n",
       "      <td>1.00</td>\n",
       "      <td>150.2500</td>\n",
       "      <td>338.00</td>\n",
       "      <td>631.2500</td>\n",
       "      <td>992.00</td>\n",
       "    </tr>\n",
       "    <tr>\n",
       "      <th>year</th>\n",
       "      <td>250.0</td>\n",
       "      <td>2011.932000</td>\n",
       "      <td>3.326807</td>\n",
       "      <td>2006.00</td>\n",
       "      <td>2009.0000</td>\n",
       "      <td>2012.00</td>\n",
       "      <td>2015.0000</td>\n",
       "      <td>2016.00</td>\n",
       "    </tr>\n",
       "    <tr>\n",
       "      <th>runtime</th>\n",
       "      <td>250.0</td>\n",
       "      <td>123.492000</td>\n",
       "      <td>21.438104</td>\n",
       "      <td>66.00</td>\n",
       "      <td>107.0000</td>\n",
       "      <td>120.50</td>\n",
       "      <td>137.0000</td>\n",
       "      <td>187.00</td>\n",
       "    </tr>\n",
       "    <tr>\n",
       "      <th>rating</th>\n",
       "      <td>250.0</td>\n",
       "      <td>7.802400</td>\n",
       "      <td>0.309155</td>\n",
       "      <td>7.30</td>\n",
       "      <td>7.5000</td>\n",
       "      <td>7.80</td>\n",
       "      <td>8.0000</td>\n",
       "      <td>9.00</td>\n",
       "    </tr>\n",
       "    <tr>\n",
       "      <th>votes</th>\n",
       "      <td>250.0</td>\n",
       "      <td>324774.820000</td>\n",
       "      <td>258762.031454</td>\n",
       "      <td>61.00</td>\n",
       "      <td>137304.2500</td>\n",
       "      <td>292594.50</td>\n",
       "      <td>450024.7500</td>\n",
       "      <td>1791916.00</td>\n",
       "    </tr>\n",
       "    <tr>\n",
       "      <th>revenue</th>\n",
       "      <td>250.0</td>\n",
       "      <td>116.814244</td>\n",
       "      <td>136.843242</td>\n",
       "      <td>0.01</td>\n",
       "      <td>19.2925</td>\n",
       "      <td>73.58</td>\n",
       "      <td>168.8875</td>\n",
       "      <td>936.63</td>\n",
       "    </tr>\n",
       "    <tr>\n",
       "      <th>metascore</th>\n",
       "      <td>250.0</td>\n",
       "      <td>73.500000</td>\n",
       "      <td>12.244907</td>\n",
       "      <td>34.00</td>\n",
       "      <td>67.0000</td>\n",
       "      <td>74.00</td>\n",
       "      <td>81.0000</td>\n",
       "      <td>100.00</td>\n",
       "    </tr>\n",
       "  </tbody>\n",
       "</table>\n",
       "</div>"
      ],
      "text/plain": [
       "           count           mean            std      min          25%  \\\n",
       "rank       250.0     393.252000     276.710882     1.00     150.2500   \n",
       "year       250.0    2011.932000       3.326807  2006.00    2009.0000   \n",
       "runtime    250.0     123.492000      21.438104    66.00     107.0000   \n",
       "rating     250.0       7.802400       0.309155     7.30       7.5000   \n",
       "votes      250.0  324774.820000  258762.031454    61.00  137304.2500   \n",
       "revenue    250.0     116.814244     136.843242     0.01      19.2925   \n",
       "metascore  250.0      73.500000      12.244907    34.00      67.0000   \n",
       "\n",
       "                 50%          75%         max  \n",
       "rank          338.00     631.2500      992.00  \n",
       "year         2012.00    2015.0000     2016.00  \n",
       "runtime       120.50     137.0000      187.00  \n",
       "rating          7.80       8.0000        9.00  \n",
       "votes      292594.50  450024.7500  1791916.00  \n",
       "revenue        73.58     168.8875      936.63  \n",
       "metascore      74.00      81.0000      100.00  "
      ]
     },
     "execution_count": 16,
     "metadata": {},
     "output_type": "execute_result"
    }
   ],
   "source": [
    "# 1.3.6 #e\n",
    "top250.describe().T"
   ]
  },
  {
   "cell_type": "code",
   "execution_count": 17,
   "id": "4b5f8e2b",
   "metadata": {
    "ExecuteTime": {
     "end_time": "2023-05-12T12:51:39.210040Z",
     "start_time": "2023-05-12T12:51:38.644967Z"
    }
   },
   "outputs": [
    {
     "data": {
      "image/png": "[encoded data removed]",
      "text/plain": [
       "<Figure size 2500x1000 with 3 Axes>"
      ]
     },
     "metadata": {},
     "output_type": "display_data"
    }
   ],
   "source": [
    "#1.3.7\n",
    "msno.bar(top250);"
   ]
  },
  {
   "cell_type": "code",
   "execution_count": 18,
   "id": "296fd572",
   "metadata": {
    "ExecuteTime": {
     "end_time": "2023-05-12T12:51:39.226094Z",
     "start_time": "2023-05-12T12:51:39.211045Z"
    }
   },
   "outputs": [
    {
     "data": {
      "text/plain": [
       "rank           0\n",
       "genre          0\n",
       "description    0\n",
       "director       0\n",
       "actors         0\n",
       "year           0\n",
       "runtime        0\n",
       "rating         0\n",
       "votes          0\n",
       "revenue        0\n",
       "metascore      0\n",
       "dtype: int64"
      ]
     },
     "execution_count": 18,
     "metadata": {},
     "output_type": "execute_result"
    }
   ],
   "source": [
    "top250.isna().sum()"
   ]
  },
  {
   "cell_type": "code",
   "execution_count": 19,
   "id": "ba5fdbb1",
   "metadata": {
    "ExecuteTime": {
     "end_time": "2023-05-12T12:51:39.335527Z",
     "start_time": "2023-05-12T12:51:39.228098Z"
    }
   },
   "outputs": [
    {
     "data": {
      "image/png": "[encoded data removed]",
      "text/plain": [
       "<Figure size 640x480 with 1 Axes>"
      ]
     },
     "metadata": {},
     "output_type": "display_data"
    }
   ],
   "source": [
    "# 1.3.8 #a\n",
    "year_count = top250.year.value_counts()\n",
    "year_count = year_count.sort_index()\n",
    "plt.plot(year_count.index, year_count.values)\n",
    "plt.xticks(year_count.index)\n",
    "plt.show()"
   ]
  },
  {
   "cell_type": "code",
   "execution_count": 43,
   "id": "7f73b079",
   "metadata": {
    "ExecuteTime": {
     "end_time": "2023-05-12T13:05:46.429965Z",
     "start_time": "2023-05-12T13:05:46.227745Z"
    }
   },
   "outputs": [
    {
     "data": {
      "image/png": "[encoded data removed]",
      "text/plain": [
       "<Figure size 900x500 with 1 Axes>"
      ]
     },
     "metadata": {},
     "output_type": "display_data"
    }
   ],
   "source": [
    "# 1.3.8 #b\n",
    "result = {}\n",
    "for i in range(250):\n",
    "    x = top250.iloc[i].genre\n",
    "    x = x.split(\",\")\n",
    "    for j in x:\n",
    "        if j not in result:\n",
    "            result[j] = 1\n",
    "        else:\n",
    "            result[j] += 1\n",
    "genres = pd.DataFrame(result.items())\n",
    "genres = genres.sort_values(by = 1, ascending = False).head(10)\n",
    "\n",
    "fig, ax = plt.subplots(figsize = (9, 5))\n",
    "sns.barplot(data = genres, x = 0, y = 1)\n",
    "ax.tick_params(axis='x', colors='blue')\n",
    "plt.xticks(rotation=45)\n",
    "plt.xlabel(\"Genres\")\n",
    "plt.ylabel(\"count\")\n",
    "ax.set_title(\"Movie Genres\", color = \"red\");"
   ]
  },
  {
   "cell_type": "code",
   "execution_count": 48,
   "id": "724e9875",
   "metadata": {
    "ExecuteTime": {
     "end_time": "2023-05-12T13:14:26.489972Z",
     "start_time": "2023-05-12T13:14:26.351156Z"
    }
   },
   "outputs": [
    {
     "data": {
      "image/png": "[encoded data removed]",
      "text/plain": [
       "<Figure size 1000x800 with 1 Axes>"
      ]
     },
     "metadata": {},
     "output_type": "display_data"
    }
   ],
   "source": [
    "# 1.3.8 #c\n",
    "plt.figure(figsize=(10, 8))\n",
    "\n",
    "color_list = [\"gold\", \"yellowgreen\", \"lightcoral\", \"lightskyblue\", \"blue\", \"orange\", \"pink\", \"red\", \"brown\", \"purple\"]\n",
    "explode_list = [0.1, 0.1, 0.1, 0.1, 0.1, 0.1, 0.1, 0.1, 0.1, 0.1]\n",
    "mylabels = [\"Drama\", \"Adventure\", \"Comedy\", \"Action\", \"Thriller\", \"Biography\", \"Crime\", \"Sci-Fi\", \"Mystery\", \"Romance\"]\n",
    "\n",
    "y = genres[1]\n",
    "\n",
    "plt.pie(y, labels = mylabels, labeldistance = 0.7, autopct=\"%.1f\", startangle = 0, shadow = True, pctdistance=0.6, \n",
    "        colors=color_list, explode = explode_list)\n",
    "\n",
    "#plt.legend(loc=(0))\n",
    "plt.show()"
   ]
  },
  {
   "cell_type": "code",
   "execution_count": 57,
   "id": "fea843c6",
   "metadata": {
    "ExecuteTime": {
     "end_time": "2023-05-12T13:28:08.808054Z",
     "start_time": "2023-05-12T13:28:08.771047Z"
    }
   },
   "outputs": [
    {
     "data": {
      "application/vnd.plotly.v1+json": {
       "config": {
        "plotlyServerURL": "https://plot.ly"
       },
       "data": [
        {
         "domain": {
          "x": [
           0,
           1
          ],
          "y": [
           0,
           1
          ]
         },
         "hovertemplate": "label=%{label}<br>value=%{value}<extra></extra>",
         "labels": [
          "Drama",
          "Adventure",
          "Comedy",
          "Action",
          "Thriller",
          "Biography",
          "Crime",
          "Sci-Fi",
          "Mystery",
          "Romance"
         ],
         "legendgroup": "",
         "name": "",
         "showlegend": true,
         "type": "pie",
         "values": [
          175,
          70,
          58,
          54,
          38,
          36,
          34,
          30,
          30,
          29
         ]
        }
       ],
       "layout": {
        "legend": {
         "tracegroupgap": 0
        },
        "margin": {
         "t": 60
        },
        "template": {
         "data": {
          "bar": [
           {
            "error_x": {
             "color": "#2a3f5f"
            },
            "error_y": {
             "color": "#2a3f5f"
            },
            "marker": {
             "line": {
              "color": "#E5ECF6",
              "width": 0.5
             },
             "pattern": {
              "fillmode": "overlay",
              "size": 10,
              "solidity": 0.2
             }
            },
            "type": "bar"
           }
          ],
          "barpolar": [
           {
            "marker": {
             "line": {
              "color": "#E5ECF6",
              "width": 0.5
             },
             "pattern": {
              "fillmode": "overlay",
              "size": 10,
              "solidity": 0.2
             }
            },
            "type": "barpolar"
           }
          ],
          "carpet": [
           {
            "aaxis": {
             "endlinecolor": "#2a3f5f",
             "gridcolor": "white",
             "linecolor": "white",
             "minorgridcolor": "white",
             "startlinecolor": "#2a3f5f"
            },
            "baxis": {
             "endlinecolor": "#2a3f5f",
             "gridcolor": "white",
             "linecolor": "white",
             "minorgridcolor": "white",
             "startlinecolor": "#2a3f5f"
            },
            "type": "carpet"
           }
          ],
          "choropleth": [
           {
            "colorbar": {
             "outlinewidth": 0,
             "ticks": ""
            },
            "type": "choropleth"
           }
          ],
          "contour": [
           {
            "colorbar": {
             "outlinewidth": 0,
             "ticks": ""
            },
            "colorscale": [
             [
              0,
              "#0d0887"
             ],
             [
              0.1111111111111111,
              "#46039f"
             ],
             [
              0.2222222222222222,
              "#7201a8"
             ],
             [
              0.3333333333333333,
              "#9c179e"
             ],
             [
              0.4444444444444444,
              "#bd3786"
             ],
             [
              0.5555555555555556,
              "#d8576b"
             ],
             [
              0.6666666666666666,
              "#ed7953"
             ],
             [
              0.7777777777777778,
              "#fb9f3a"
             ],
             [
              0.8888888888888888,
              "#fdca26"
             ],
             [
              1,
              "#f0f921"
             ]
            ],
            "type": "contour"
           }
          ],
          "contourcarpet": [
           {
            "colorbar": {
             "outlinewidth": 0,
             "ticks": ""
            },
            "type": "contourcarpet"
           }
          ],
          "heatmap": [
           {
            "colorbar": {
             "outlinewidth": 0,
             "ticks": ""
            },
            "colorscale": [
             [
              0,
              "#0d0887"
             ],
             [
              0.1111111111111111,
              "#46039f"
             ],
             [
              0.2222222222222222,
              "#7201a8"
             ],
             [
              0.3333333333333333,
              "#9c179e"
             ],
             [
              0.4444444444444444,
              "#bd3786"
             ],
             [
              0.5555555555555556,
              "#d8576b"
             ],
             [
              0.6666666666666666,
              "#ed7953"
             ],
             [
              0.7777777777777778,
              "#fb9f3a"
             ],
             [
              0.8888888888888888,
              "#fdca26"
             ],
             [
              1,
              "#f0f921"
             ]
            ],
            "type": "heatmap"
           }
          ],
          "heatmapgl": [
           {
            "colorbar": {
             "outlinewidth": 0,
             "ticks": ""
            },
            "colorscale": [
             [
              0,
              "#0d0887"
             ],
             [
              0.1111111111111111,
              "#46039f"
             ],
             [
              0.2222222222222222,
              "#7201a8"
             ],
             [
              0.3333333333333333,
              "#9c179e"
             ],
             [
              0.4444444444444444,
              "#bd3786"
             ],
             [
              0.5555555555555556,
              "#d8576b"
             ],
             [
              0.6666666666666666,
              "#ed7953"
             ],
             [
              0.7777777777777778,
              "#fb9f3a"
             ],
             [
              0.8888888888888888,
              "#fdca26"
             ],
             [
              1,
              "#f0f921"
             ]
            ],
            "type": "heatmapgl"
           }
          ],
          "histogram": [
           {
            "marker": {
             "pattern": {
              "fillmode": "overlay",
              "size": 10,
              "solidity": 0.2
             }
            },
            "type": "histogram"
           }
          ],
          "histogram2d": [
           {
            "colorbar": {
             "outlinewidth": 0,
             "ticks": ""
            },
            "colorscale": [
             [
              0,
              "#0d0887"
             ],
             [
              0.1111111111111111,
              "#46039f"
             ],
             [
              0.2222222222222222,
              "#7201a8"
             ],
             [
              0.3333333333333333,
              "#9c179e"
             ],
             [
              0.4444444444444444,
              "#bd3786"
             ],
             [
              0.5555555555555556,
              "#d8576b"
             ],
             [
              0.6666666666666666,
              "#ed7953"
             ],
             [
              0.7777777777777778,
              "#fb9f3a"
             ],
             [
              0.8888888888888888,
              "#fdca26"
             ],
             [
              1,
              "#f0f921"
             ]
            ],
            "type": "histogram2d"
           }
          ],
          "histogram2dcontour": [
           {
            "colorbar": {
             "outlinewidth": 0,
             "ticks": ""
            },
            "colorscale": [
             [
              0,
              "#0d0887"
             ],
             [
              0.1111111111111111,
              "#46039f"
             ],
             [
              0.2222222222222222,
              "#7201a8"
             ],
             [
              0.3333333333333333,
              "#9c179e"
             ],
             [
              0.4444444444444444,
              "#bd3786"
             ],
             [
              0.5555555555555556,
              "#d8576b"
             ],
             [
              0.6666666666666666,
              "#ed7953"
             ],
             [
              0.7777777777777778,
              "#fb9f3a"
             ],
             [
              0.8888888888888888,
              "#fdca26"
             ],
             [
              1,
              "#f0f921"
             ]
            ],
            "type": "histogram2dcontour"
           }
          ],
          "mesh3d": [
           {
            "colorbar": {
             "outlinewidth": 0,
             "ticks": ""
            },
            "type": "mesh3d"
           }
          ],
          "parcoords": [
           {
            "line": {
             "colorbar": {
              "outlinewidth": 0,
              "ticks": ""
             }
            },
            "type": "parcoords"
           }
          ],
          "pie": [
           {
            "automargin": true,
            "type": "pie"
           }
          ],
          "scatter": [
           {
            "fillpattern": {
             "fillmode": "overlay",
             "size": 10,
             "solidity": 0.2
            },
            "type": "scatter"
           }
          ],
          "scatter3d": [
           {
            "line": {
             "colorbar": {
              "outlinewidth": 0,
              "ticks": ""
             }
            },
            "marker": {
             "colorbar": {
              "outlinewidth": 0,
              "ticks": ""
             }
            },
            "type": "scatter3d"
           }
          ],
          "scattercarpet": [
           {
            "marker": {
             "colorbar": {
              "outlinewidth": 0,
              "ticks": ""
             }
            },
            "type": "scattercarpet"
           }
          ],
          "scattergeo": [
           {
            "marker": {
             "colorbar": {
              "outlinewidth": 0,
              "ticks": ""
             }
            },
            "type": "scattergeo"
           }
          ],
          "scattergl": [
           {
            "marker": {
             "colorbar": {
              "outlinewidth": 0,
              "ticks": ""
             }
            },
            "type": "scattergl"
           }
          ],
          "scattermapbox": [
           {
            "marker": {
             "colorbar": {
              "outlinewidth": 0,
              "ticks": ""
             }
            },
            "type": "scattermapbox"
           }
          ],
          "scatterpolar": [
           {
            "marker": {
             "colorbar": {
              "outlinewidth": 0,
              "ticks": ""
             }
            },
            "type": "scatterpolar"
           }
          ],
          "scatterpolargl": [
           {
            "marker": {
             "colorbar": {
              "outlinewidth": 0,
              "ticks": ""
             }
            },
            "type": "scatterpolargl"
           }
          ],
          "scatterternary": [
           {
            "marker": {
             "colorbar": {
              "outlinewidth": 0,
              "ticks": ""
             }
            },
            "type": "scatterternary"
           }
          ],
          "surface": [
           {
            "colorbar": {
             "outlinewidth": 0,
             "ticks": ""
            },
            "colorscale": [
             [
              0,
              "#0d0887"
             ],
             [
              0.1111111111111111,
              "#46039f"
             ],
             [
              0.2222222222222222,
              "#7201a8"
             ],
             [
              0.3333333333333333,
              "#9c179e"
             ],
             [
              0.4444444444444444,
              "#bd3786"
             ],
             [
              0.5555555555555556,
              "#d8576b"
             ],
             [
              0.6666666666666666,
              "#ed7953"
             ],
             [
              0.7777777777777778,
              "#fb9f3a"
             ],
             [
              0.8888888888888888,
              "#fdca26"
             ],
             [
              1,
              "#f0f921"
             ]
            ],
            "type": "surface"
           }
          ],
          "table": [
           {
            "cells": {
             "fill": {
              "color": "#EBF0F8"
             },
             "line": {
              "color": "white"
             }
            },
            "header": {
             "fill": {
              "color": "#C8D4E3"
             },
             "line": {
              "color": "white"
             }
            },
            "type": "table"
           }
          ]
         },
         "layout": {
          "annotationdefaults": {
           "arrowcolor": "#2a3f5f",
           "arrowhead": 0,
           "arrowwidth": 1
          },
          "autotypenumbers": "strict",
          "coloraxis": {
           "colorbar": {
            "outlinewidth": 0,
            "ticks": ""
           }
          },
          "colorscale": {
           "diverging": [
            [
             0,
             "#8e0152"
            ],
            [
             0.1,
             "#c51b7d"
            ],
            [
             0.2,
             "#de77ae"
            ],
            [
             0.3,
             "#f1b6da"
            ],
            [
             0.4,
             "#fde0ef"
            ],
            [
             0.5,
             "#f7f7f7"
            ],
            [
             0.6,
             "#e6f5d0"
            ],
            [
             0.7,
             "#b8e186"
            ],
            [
             0.8,
             "#7fbc41"
            ],
            [
             0.9,
             "#4d9221"
            ],
            [
             1,
             "#276419"
            ]
           ],
           "sequential": [
            [
             0,
             "#0d0887"
            ],
            [
             0.1111111111111111,
             "#46039f"
            ],
            [
             0.2222222222222222,
             "#7201a8"
            ],
            [
             0.3333333333333333,
             "#9c179e"
            ],
            [
             0.4444444444444444,
             "#bd3786"
            ],
            [
             0.5555555555555556,
             "#d8576b"
            ],
            [
             0.6666666666666666,
             "#ed7953"
            ],
            [
             0.7777777777777778,
             "#fb9f3a"
            ],
            [
             0.8888888888888888,
             "#fdca26"
            ],
            [
             1,
             "#f0f921"
            ]
           ],
           "sequentialminus": [
            [
             0,
             "#0d0887"
            ],
            [
             0.1111111111111111,
             "#46039f"
            ],
            [
             0.2222222222222222,
             "#7201a8"
            ],
            [
             0.3333333333333333,
             "#9c179e"
            ],
            [
             0.4444444444444444,
             "#bd3786"
            ],
            [
             0.5555555555555556,
             "#d8576b"
            ],
            [
             0.6666666666666666,
             "#ed7953"
            ],
            [
             0.7777777777777778,
             "#fb9f3a"
            ],
            [
             0.8888888888888888,
             "#fdca26"
            ],
            [
             1,
             "#f0f921"
            ]
           ]
          },
          "colorway": [
           "#636efa",
           "#EF553B",
           "#00cc96",
           "#ab63fa",
           "#FFA15A",
           "#19d3f3",
           "#FF6692",
           "#B6E880",
           "#FF97FF",
           "#FECB52"
          ],
          "font": {
           "color": "#2a3f5f"
          },
          "geo": {
           "bgcolor": "white",
           "lakecolor": "white",
           "landcolor": "#E5ECF6",
           "showlakes": true,
           "showland": true,
           "subunitcolor": "white"
          },
          "hoverlabel": {
           "align": "left"
          },
          "hovermode": "closest",
          "mapbox": {
           "style": "light"
          },
          "paper_bgcolor": "white",
          "plot_bgcolor": "#E5ECF6",
          "polar": {
           "angularaxis": {
            "gridcolor": "white",
            "linecolor": "white",
            "ticks": ""
           },
           "bgcolor": "#E5ECF6",
           "radialaxis": {
            "gridcolor": "white",
            "linecolor": "white",
            "ticks": ""
           }
          },
          "scene": {
           "xaxis": {
            "backgroundcolor": "#E5ECF6",
            "gridcolor": "white",
            "gridwidth": 2,
            "linecolor": "white",
            "showbackground": true,
            "ticks": "",
            "zerolinecolor": "white"
           },
           "yaxis": {
            "backgroundcolor": "#E5ECF6",
            "gridcolor": "white",
            "gridwidth": 2,
            "linecolor": "white",
            "showbackground": true,
            "ticks": "",
            "zerolinecolor": "white"
           },
           "zaxis": {
            "backgroundcolor": "#E5ECF6",
            "gridcolor": "white",
            "gridwidth": 2,
            "linecolor": "white",
            "showbackground": true,
            "ticks": "",
            "zerolinecolor": "white"
           }
          },
          "shapedefaults": {
           "line": {
            "color": "#2a3f5f"
           }
          },
          "ternary": {
           "aaxis": {
            "gridcolor": "white",
            "linecolor": "white",
            "ticks": ""
           },
           "baxis": {
            "gridcolor": "white",
            "linecolor": "white",
            "ticks": ""
           },
           "bgcolor": "#E5ECF6",
           "caxis": {
            "gridcolor": "white",
            "linecolor": "white",
            "ticks": ""
           }
          },
          "title": {
           "x": 0.05
          },
          "xaxis": {
           "automargin": true,
           "gridcolor": "white",
           "linecolor": "white",
           "ticks": "",
           "title": {
            "standoff": 15
           },
           "zerolinecolor": "white",
           "zerolinewidth": 2
          },
          "yaxis": {
           "automargin": true,
           "gridcolor": "white",
           "linecolor": "white",
           "ticks": "",
           "title": {
            "standoff": 15
           },
           "zerolinecolor": "white",
           "zerolinewidth": 2
          }
         }
        }
       }
      },
      "text/html": [
       "<div>                            <div id=\"3f0ecbf4-eac7-4f5f-9927-16d6e7095b72\" class=\"plotly-graph-div\" style=\"height:525px; width:100%;\"></div>            <script type=\"text/javascript\">                require([\"plotly\"], function(Plotly) {                    window.PLOTLYENV=window.PLOTLYENV || {};                                    if (document.getElementById(\"3f0ecbf4-eac7-4f5f-9927-16d6e7095b72\")) {                    Plotly.newPlot(                        \"3f0ecbf4-eac7-4f5f-9927-16d6e7095b72\",                        [{\"domain\":{\"x\":[0.0,1.0],\"y\":[0.0,1.0]},\"hovertemplate\":\"label=%{label}<br>value=%{value}<extra></extra>\",\"labels\":[\"Drama\",\"Adventure\",\"Comedy\",\"Action\",\"Thriller\",\"Biography\",\"Crime\",\"Sci-Fi\",\"Mystery\",\"Romance\"],\"legendgroup\":\"\",\"name\":\"\",\"showlegend\":true,\"values\":[175,70,58,54,38,36,34,30,30,29],\"type\":\"pie\"}],                        {\"template\":{\"data\":{\"histogram2dcontour\":[{\"type\":\"histogram2dcontour\",\"colorbar\":{\"outlinewidth\":0,\"ticks\":\"\"},\"colorscale\":[[0.0,\"#0d0887\"],[0.1111111111111111,\"#46039f\"],[0.2222222222222222,\"#7201a8\"],[0.3333333333333333,\"#9c179e\"],[0.4444444444444444,\"#bd3786\"],[0.5555555555555556,\"#d8576b\"],[0.6666666666666666,\"#ed7953\"],[0.7777777777777778,\"#fb9f3a\"],[0.8888888888888888,\"#fdca26\"],[1.0,\"#f0f921\"]]}],\"choropleth\":[{\"type\":\"choropleth\",\"colorbar\":{\"outlinewidth\":0,\"ticks\":\"\"}}],\"histogram2d\":[{\"type\":\"histogram2d\",\"colorbar\":{\"outlinewidth\":0,\"ticks\":\"\"},\"colorscale\":[[0.0,\"#0d0887\"],[0.1111111111111111,\"#46039f\"],[0.2222222222222222,\"#7201a8\"],[0.3333333333333333,\"#9c179e\"],[0.4444444444444444,\"#bd3786\"],[0.5555555555555556,\"#d8576b\"],[0.6666666666666666,\"#ed7953\"],[0.7777777777777778,\"#fb9f3a\"],[0.8888888888888888,\"#fdca26\"],[1.0,\"#f0f921\"]]}],\"heatmap\":[{\"type\":\"heatmap\",\"colorbar\":{\"outlinewidth\":0,\"ticks\":\"\"},\"colorscale\":[[0.0,\"#0d0887\"],[0.1111111111111111,\"#46039f\"],[0.2222222222222222,\"#7201a8\"],[0.3333333333333333,\"#9c179e\"],[0.4444444444444444,\"#bd3786\"],[0.5555555555555556,\"#d8576b\"],[0.6666666666666666,\"#ed7953\"],[0.7777777777777778,\"#fb9f3a\"],[0.8888888888888888,\"#fdca26\"],[1.0,\"#f0f921\"]]}],\"heatmapgl\":[{\"type\":\"heatmapgl\",\"colorbar\":{\"outlinewidth\":0,\"ticks\":\"\"},\"colorscale\":[[0.0,\"#0d0887\"],[0.1111111111111111,\"#46039f\"],[0.2222222222222222,\"#7201a8\"],[0.3333333333333333,\"#9c179e\"],[0.4444444444444444,\"#bd3786\"],[0.5555555555555556,\"#d8576b\"],[0.6666666666666666,\"#ed7953\"],[0.7777777777777778,\"#fb9f3a\"],[0.8888888888888888,\"#fdca26\"],[1.0,\"#f0f921\"]]}],\"contourcarpet\":[{\"type\":\"contourcarpet\",\"colorbar\":{\"outlinewidth\":0,\"ticks\":\"\"}}],\"contour\":[{\"type\":\"contour\",\"colorbar\":{\"outlinewidth\":0,\"ticks\":\"\"},\"colorscale\":[[0.0,\"#0d0887\"],[0.1111111111111111,\"#46039f\"],[0.2222222222222222,\"#7201a8\"],[0.3333333333333333,\"#9c179e\"],[0.4444444444444444,\"#bd3786\"],[0.5555555555555556,\"#d8576b\"],[0.6666666666666666,\"#ed7953\"],[0.7777777777777778,\"#fb9f3a\"],[0.8888888888888888,\"#fdca26\"],[1.0,\"#f0f921\"]]}],\"surface\":[{\"type\":\"surface\",\"colorbar\":{\"outlinewidth\":0,\"ticks\":\"\"},\"colorscale\":[[0.0,\"#0d0887\"],[0.1111111111111111,\"#46039f\"],[0.2222222222222222,\"#7201a8\"],[0.3333333333333333,\"#9c179e\"],[0.4444444444444444,\"#bd3786\"],[0.5555555555555556,\"#d8576b\"],[0.6666666666666666,\"#ed7953\"],[0.7777777777777778,\"#fb9f3a\"],[0.8888888888888888,\"#fdca26\"],[1.0,\"#f0f921\"]]}],\"mesh3d\":[{\"type\":\"mesh3d\",\"colorbar\":{\"outlinewidth\":0,\"ticks\":\"\"}}],\"scatter\":[{\"fillpattern\":{\"fillmode\":\"overlay\",\"size\":10,\"solidity\":0.2},\"type\":\"scatter\"}],\"parcoords\":[{\"type\":\"parcoords\",\"line\":{\"colorbar\":{\"outlinewidth\":0,\"ticks\":\"\"}}}],\"scatterpolargl\":[{\"type\":\"scatterpolargl\",\"marker\":{\"colorbar\":{\"outlinewidth\":0,\"ticks\":\"\"}}}],\"bar\":[{\"error_x\":{\"color\":\"#2a3f5f\"},\"error_y\":{\"color\":\"#2a3f5f\"},\"marker\":{\"line\":{\"color\":\"#E5ECF6\",\"width\":0.5},\"pattern\":{\"fillmode\":\"overlay\",\"size\":10,\"solidity\":0.2}},\"type\":\"bar\"}],\"scattergeo\":[{\"type\":\"scattergeo\",\"marker\":{\"colorbar\":{\"outlinewidth\":0,\"ticks\":\"\"}}}],\"scatterpolar\":[{\"type\":\"scatterpolar\",\"marker\":{\"colorbar\":{\"outlinewidth\":0,\"ticks\":\"\"}}}],\"histogram\":[{\"marker\":{\"pattern\":{\"fillmode\":\"overlay\",\"size\":10,\"solidity\":0.2}},\"type\":\"histogram\"}],\"scattergl\":[{\"type\":\"scattergl\",\"marker\":{\"colorbar\":{\"outlinewidth\":0,\"ticks\":\"\"}}}],\"scatter3d\":[{\"type\":\"scatter3d\",\"line\":{\"colorbar\":{\"outlinewidth\":0,\"ticks\":\"\"}},\"marker\":{\"colorbar\":{\"outlinewidth\":0,\"ticks\":\"\"}}}],\"scattermapbox\":[{\"type\":\"scattermapbox\",\"marker\":{\"colorbar\":{\"outlinewidth\":0,\"ticks\":\"\"}}}],\"scatterternary\":[{\"type\":\"scatterternary\",\"marker\":{\"colorbar\":{\"outlinewidth\":0,\"ticks\":\"\"}}}],\"scattercarpet\":[{\"type\":\"scattercarpet\",\"marker\":{\"colorbar\":{\"outlinewidth\":0,\"ticks\":\"\"}}}],\"carpet\":[{\"aaxis\":{\"endlinecolor\":\"#2a3f5f\",\"gridcolor\":\"white\",\"linecolor\":\"white\",\"minorgridcolor\":\"white\",\"startlinecolor\":\"#2a3f5f\"},\"baxis\":{\"endlinecolor\":\"#2a3f5f\",\"gridcolor\":\"white\",\"linecolor\":\"white\",\"minorgridcolor\":\"white\",\"startlinecolor\":\"#2a3f5f\"},\"type\":\"carpet\"}],\"table\":[{\"cells\":{\"fill\":{\"color\":\"#EBF0F8\"},\"line\":{\"color\":\"white\"}},\"header\":{\"fill\":{\"color\":\"#C8D4E3\"},\"line\":{\"color\":\"white\"}},\"type\":\"table\"}],\"barpolar\":[{\"marker\":{\"line\":{\"color\":\"#E5ECF6\",\"width\":0.5},\"pattern\":{\"fillmode\":\"overlay\",\"size\":10,\"solidity\":0.2}},\"type\":\"barpolar\"}],\"pie\":[{\"automargin\":true,\"type\":\"pie\"}]},\"layout\":{\"autotypenumbers\":\"strict\",\"colorway\":[\"#636efa\",\"#EF553B\",\"#00cc96\",\"#ab63fa\",\"#FFA15A\",\"#19d3f3\",\"#FF6692\",\"#B6E880\",\"#FF97FF\",\"#FECB52\"],\"font\":{\"color\":\"#2a3f5f\"},\"hovermode\":\"closest\",\"hoverlabel\":{\"align\":\"left\"},\"paper_bgcolor\":\"white\",\"plot_bgcolor\":\"#E5ECF6\",\"polar\":{\"bgcolor\":\"#E5ECF6\",\"angularaxis\":{\"gridcolor\":\"white\",\"linecolor\":\"white\",\"ticks\":\"\"},\"radialaxis\":{\"gridcolor\":\"white\",\"linecolor\":\"white\",\"ticks\":\"\"}},\"ternary\":{\"bgcolor\":\"#E5ECF6\",\"aaxis\":{\"gridcolor\":\"white\",\"linecolor\":\"white\",\"ticks\":\"\"},\"baxis\":{\"gridcolor\":\"white\",\"linecolor\":\"white\",\"ticks\":\"\"},\"caxis\":{\"gridcolor\":\"white\",\"linecolor\":\"white\",\"ticks\":\"\"}},\"coloraxis\":{\"colorbar\":{\"outlinewidth\":0,\"ticks\":\"\"}},\"colorscale\":{\"sequential\":[[0.0,\"#0d0887\"],[0.1111111111111111,\"#46039f\"],[0.2222222222222222,\"#7201a8\"],[0.3333333333333333,\"#9c179e\"],[0.4444444444444444,\"#bd3786\"],[0.5555555555555556,\"#d8576b\"],[0.6666666666666666,\"#ed7953\"],[0.7777777777777778,\"#fb9f3a\"],[0.8888888888888888,\"#fdca26\"],[1.0,\"#f0f921\"]],\"sequentialminus\":[[0.0,\"#0d0887\"],[0.1111111111111111,\"#46039f\"],[0.2222222222222222,\"#7201a8\"],[0.3333333333333333,\"#9c179e\"],[0.4444444444444444,\"#bd3786\"],[0.5555555555555556,\"#d8576b\"],[0.6666666666666666,\"#ed7953\"],[0.7777777777777778,\"#fb9f3a\"],[0.8888888888888888,\"#fdca26\"],[1.0,\"#f0f921\"]],\"diverging\":[[0,\"#8e0152\"],[0.1,\"#c51b7d\"],[0.2,\"#de77ae\"],[0.3,\"#f1b6da\"],[0.4,\"#fde0ef\"],[0.5,\"#f7f7f7\"],[0.6,\"#e6f5d0\"],[0.7,\"#b8e186\"],[0.8,\"#7fbc41\"],[0.9,\"#4d9221\"],[1,\"#276419\"]]},\"xaxis\":{\"gridcolor\":\"white\",\"linecolor\":\"white\",\"ticks\":\"\",\"title\":{\"standoff\":15},\"zerolinecolor\":\"white\",\"automargin\":true,\"zerolinewidth\":2},\"yaxis\":{\"gridcolor\":\"white\",\"linecolor\":\"white\",\"ticks\":\"\",\"title\":{\"standoff\":15},\"zerolinecolor\":\"white\",\"automargin\":true,\"zerolinewidth\":2},\"scene\":{\"xaxis\":{\"backgroundcolor\":\"#E5ECF6\",\"gridcolor\":\"white\",\"linecolor\":\"white\",\"showbackground\":true,\"ticks\":\"\",\"zerolinecolor\":\"white\",\"gridwidth\":2},\"yaxis\":{\"backgroundcolor\":\"#E5ECF6\",\"gridcolor\":\"white\",\"linecolor\":\"white\",\"showbackground\":true,\"ticks\":\"\",\"zerolinecolor\":\"white\",\"gridwidth\":2},\"zaxis\":{\"backgroundcolor\":\"#E5ECF6\",\"gridcolor\":\"white\",\"linecolor\":\"white\",\"showbackground\":true,\"ticks\":\"\",\"zerolinecolor\":\"white\",\"gridwidth\":2}},\"shapedefaults\":{\"line\":{\"color\":\"#2a3f5f\"}},\"annotationdefaults\":{\"arrowcolor\":\"#2a3f5f\",\"arrowhead\":0,\"arrowwidth\":1},\"geo\":{\"bgcolor\":\"white\",\"landcolor\":\"#E5ECF6\",\"subunitcolor\":\"white\",\"showland\":true,\"showlakes\":true,\"lakecolor\":\"white\"},\"title\":{\"x\":0.05},\"mapbox\":{\"style\":\"light\"}}},\"legend\":{\"tracegroupgap\":0},\"margin\":{\"t\":60}},                        {\"responsive\": true}                    ).then(function(){\n",
       "                            \n",
       "var gd = document.getElementById('3f0ecbf4-eac7-4f5f-9927-16d6e7095b72');\n",
       "var x = new MutationObserver(function (mutations, observer) {{\n",
       "        var display = window.getComputedStyle(gd).display;\n",
       "        if (!display || display === 'none') {{\n",
       "            console.log([gd, 'removed!']);\n",
       "            Plotly.purge(gd);\n",
       "            observer.disconnect();\n",
       "        }}\n",
       "}});\n",
       "\n",
       "// Listen for the removal of the full notebook cells\n",
       "var notebookContainer = gd.closest('#notebook-container');\n",
       "if (notebookContainer) {{\n",
       "    x.observe(notebookContainer, {childList: true});\n",
       "}}\n",
       "\n",
       "// Listen for the clearing of the current output cell\n",
       "var outputEl = gd.closest('.output');\n",
       "if (outputEl) {{\n",
       "    x.observe(outputEl, {childList: true});\n",
       "}}\n",
       "\n",
       "                        })                };                });            </script>        </div>"
      ]
     },
     "metadata": {},
     "output_type": "display_data"
    }
   ],
   "source": [
    "fig = px.pie(names = genres[0].to_list() , values = genres[1].to_list())\n",
    "fig.show()"
   ]
  },
  {
   "cell_type": "code",
   "execution_count": 58,
   "id": "226815fd",
   "metadata": {
    "ExecuteTime": {
     "end_time": "2023-05-12T13:31:55.392578Z",
     "start_time": "2023-05-12T13:31:55.203020Z"
    }
   },
   "outputs": [
    {
     "data": {
      "image/png": "[encoded data removed]",
      "text/plain": [
       "<Figure size 640x480 with 2 Axes>"
      ]
     },
     "metadata": {},
     "output_type": "display_data"
    }
   ],
   "source": [
    "#1.3.9 #a\n",
    "sns.heatmap(top250.corr());"
   ]
  },
  {
   "cell_type": "code",
   "execution_count": 70,
   "id": "e7cc7735",
   "metadata": {
    "ExecuteTime": {
     "end_time": "2023-05-12T13:47:34.902061Z",
     "start_time": "2023-05-12T13:47:34.591586Z"
    }
   },
   "outputs": [
    {
     "data": {
      "image/png": "[encoded data removed]",
      "text/plain": [
       "<Figure size 1300x500 with 1 Axes>"
      ]
     },
     "metadata": {},
     "output_type": "display_data"
    }
   ],
   "source": [
    "#1.3.9 #b\n",
    "result = {}\n",
    "for i in range(936):\n",
    "    x = df.iloc[i].actors\n",
    "    x = x.split(\",\")\n",
    "    for j in x:\n",
    "        if j not in result:\n",
    "            result[j] = 1\n",
    "        else:\n",
    "            result[j] += 1\n",
    "actor = pd.DataFrame(result.items())\n",
    "actor = actor.sort_values(by = 1, ascending = False).head(20)\n",
    "\n",
    "fig, ax = plt.subplots(figsize = (13, 5))\n",
    "sns.barplot(data = actor, x = 0, y = 1)\n",
    "ax.tick_params(axis='x', colors='purple')\n",
    "plt.xticks(rotation=90)\n",
    "plt.xlabel(\"actors\")\n",
    "plt.ylabel(\"count\")\n",
    "ax.set_title(\"Actors - Movies\", color = \"red\");"
   ]
  },
  {
   "cell_type": "code",
   "execution_count": 80,
   "id": "925b2914",
   "metadata": {
    "ExecuteTime": {
     "end_time": "2023-05-12T14:21:51.626028Z",
     "start_time": "2023-05-12T14:21:51.612020Z"
    }
   },
   "outputs": [],
   "source": [
    "#1.3.9 #c\n"
   ]
  },
  {
   "cell_type": "code",
   "execution_count": 90,
   "id": "19e75e49",
   "metadata": {
    "ExecuteTime": {
     "end_time": "2023-05-12T14:34:07.343419Z",
     "start_time": "2023-05-12T14:34:07.298880Z"
    }
   },
   "outputs": [
    {
     "data": {
      "application/vnd.plotly.v1+json": {
       "config": {
        "plotlyServerURL": "https://plot.ly"
       },
       "data": [
        {
         "hovertemplate": "<b>%{hovertext}</b><br><br>rating=%{marker.color}<br>revenue=%{marker.size}<extra></extra>",
         "hovertext": [
          "The Dark Knight",
          "Inception",
          "Interstellar",
          "The Intouchables",
          "Kimi no na wa",
          "Whiplash",
          "The Departed",
          "The Dark Knight Rises",
          "The Lives of Others",
          "Taare Zameen Par",
          "The Prestige",
          "3 Idiots",
          "Django Unchained",
          "Koe no katachi",
          "Jagten",
          "La La Land",
          "Inglourious Basterds",
          "Toy Story 3",
          "Paint It Black",
          "Up",
          "Pan's Labyrinth",
          "Room",
          "Warrior",
          "El secreto de sus ojos",
          "Inside Out",
          "PK",
          "Incendies",
          "Hacksaw Ridge",
          "The Wolf of Wall Street",
          "Prisoners",
          "Gone Girl",
          "The Help",
          "Harry Potter and the Deathly Hallows: Part 2",
          "The Avengers",
          "12 Years a Slave",
          "Zootopia",
          "Guardians of the Galaxy",
          "Into the Wild",
          "No Country for Old Men",
          "Shutter Island",
          "Ah-ga-ssi",
          "Spotlight",
          "The Imitation Game",
          "The Grand Budapest Hotel",
          "There Will Be Blood",
          "Hachi: A Dog's Tale",
          "Rush",
          "Relatos salvajes",
          "Mommy",
          "The Bourne Ultimatum",
          "Mad Max: Fury Road",
          "How to Train Your Dragon",
          "Lion",
          "Star Wars: Episode VII - The Force Awakens",
          "Casino Royale",
          "The Pursuit of Happyness",
          "Sing Street",
          "Blood Diamond",
          "Forushande",
          "Black Swan",
          "Her",
          "Slumdog Millionaire",
          "Ratatouille",
          "Dallas Buyers Club",
          "The Martian",
          "X-Men: Days of Future Past",
          "The Perks of Being a Wallflower",
          "The King's Speech",
          "Deadpool",
          "Star Trek",
          "District 9",
          "The Revenant",
          "Arrival",
          "Kubo and the Two Strings",
          "Mr. Nobody",
          "Nightcrawler",
          "Rogue One",
          "Edge of Tomorrow",
          "The Hobbit: The Desolation of Smaug",
          "Iron Man",
          "I, Daniel Blake",
          "Boyhood",
          "Captain America: Civil War",
          "Life of Pi",
          "The Fall",
          "Hot Fuzz",
          "The Hobbit: An Unexpected Journey",
          "In Bruges",
          "How to Train Your Dragon 2",
          "Manchester by the Sea",
          "Children of Men",
          "Moon",
          "Captain Fantastic",
          "Straight Outta Compton",
          "Hunt for the Wilderpeople",
          "La vie d'Adèle",
          "Me and Earl and the Dying Girl",
          "Silver Linings Playbook",
          "Birdman or (The Unexpected Virtue of Ignorance)",
          "The Girl with the Dragon Tattoo",
          "Big Hero 6",
          "The Hangover",
          "Captain America: The Winter Soldier",
          "Gravity",
          "Wreck-It Ralph",
          "The Curious Case of Benjamin Button",
          "Ma vie de Courgette",
          "Apocalypto",
          "Captain Phillips",
          "American Gangster",
          "The Big Short",
          "Män som hatar kvinnor",
          "The Boy in the Striped Pyjamas",
          "The Lego Movie",
          "The Fault in Our Stars",
          "La migliore offerta",
          "X: First Class",
          "Skyfall",
          "Star Trek Into Darkness",
          "Hidden Figures",
          "Little Miss Sunshine",
          "About Time",
          "The Hateful Eight",
          "Avatar",
          "Dear Zindagi",
          "Fantastic Mr. Fox",
          "Moonrise Kingdom",
          "Taken",
          "Tangled",
          "Lucky Number Slevin",
          "Maudie",
          "Drive",
          "The Fighter",
          "Changeling",
          "The Blind Side",
          "Kick-Ass",
          "Zodiac",
          "Coraline",
          "End of Watch",
          "Mr. Church",
          "Moana",
          "Zombieland",
          "Perfetti sconosciuti",
          "Stardust",
          "Gone Baby Gone",
          "Ex Machina",
          "50/50",
          "Midnight in Paris",
          "Harry Potter and the Deathly Hallows: Part 1",
          "Hell or High Water",
          "Argo",
          "Eastern Promises",
          "En man som heter Ove",
          "The Theory of Everything",
          "(500) Days of Summer",
          "300",
          "The Social Network",
          "Seven Pounds",
          "Despicable Me",
          "Kingsman: The Secret Service",
          "The Hunger Games: Catching Fire",
          "Toni Erdmann",
          "The Town",
          "Fury",
          "The imposible",
          "Moneyball",
          "127 Hours",
          "True Grit",
          "Inside Man",
          "Rise of the Planet of the Apes",
          "Bridge of Spies",
          "What We Do in the Shadows",
          "Creed",
          "The Illusionist",
          "Sherlock Holmes",
          "Les Misérables",
          "The Skin I Live In",
          "Sicario",
          "Doctor Strange",
          "Superbad",
          "Watchmen",
          "The Hurt Locker",
          "Kung Fu Panda",
          "Hunger",
          "La tortue rouge",
          "Dawn of the Planet of the Apes",
          "A Monster Calls",
          "Harry Potter and the Order of the Phoenix",
          "Source Code",
          "Juno",
          "August Rush",
          "Freedom Writers",
          "Wakefield",
          "The Conjuring",
          "The Assassination of Jesse James by the Coward Robert Ford",
          "Cloud Atlas",
          "Scott Pilgrim vs. the World",
          "Fantastic Beasts and Where to Find Them",
          "Goksung",
          "Perfume: The Story of a Murderer",
          "Brooklyn",
          "Saving Mr. Banks",
          "Frantz",
          "We Need to Talk About Kevin",
          "Paterson",
          "Moonlight",
          "Busanhaeng",
          "Bacalaureat",
          "Lone Survivor",
          "Hugo",
          "Babel",
          "Predestination",
          "The Jungle Book",
          "Raw (II)",
          "Nocturnal Animals",
          "42",
          "Sherlock Holmes: A Game of Shadows",
          "Sully",
          "Harry Potter and the Half-Blood Prince",
          "Frozen",
          "Looper",
          "Mission: Impossible - Ghost Protocol",
          "Limitless",
          "Southpaw",
          "A Street Cat Named Bob",
          "Across the Universe",
          "20th Century Women",
          "Zero Dark Thirty",
          "The Judge",
          "Lincoln",
          "The Hobbit: The Battle of the Five Armies",
          "Sweeney Todd: The Demon Barber of Fleet Street",
          "Despicable Me 2",
          "The Edge of Seventeen",
          "Begin Again",
          "Finding Dory",
          "The Nice Guys",
          "Avengers: Age of Ultron",
          "Jane Eyre",
          "The Accountant",
          "Eddie the Eagle",
          "Law Abiding Citizen",
          "Crazy, Stupid, Love.",
          "Queen of Katwe",
          "The Conjuring 2",
          "Patriots Day",
          "Me Before You",
          "Mission: Impossible - Rogue Nation",
          "Blue Valentine",
          "I Origins"
         ],
         "legendgroup": "",
         "marker": {
          "color": [
           9,
           8.8,
           8.6,
           8.6,
           8.6,
           8.5,
           8.5,
           8.5,
           8.5,
           8.5,
           8.5,
           8.4,
           8.4,
           8.4,
           8.3,
           8.3,
           8.3,
           8.3,
           8.3,
           8.3,
           8.2,
           8.2,
           8.2,
           8.2,
           8.2,
           8.2,
           8.2,
           8.2,
           8.2,
           8.1,
           8.1,
           8.1,
           8.1,
           8.1,
           8.1,
           8.1,
           8.1,
           8.1,
           8.1,
           8.1,
           8.1,
           8.1,
           8.1,
           8.1,
           8.1,
           8.1,
           8.1,
           8.1,
           8.1,
           8.1,
           8.1,
           8.1,
           8.1,
           8.1,
           8,
           8,
           8,
           8,
           8,
           8,
           8,
           8,
           8,
           8,
           8,
           8,
           8,
           8,
           8,
           8,
           8,
           8,
           8,
           7.9,
           7.9,
           7.9,
           7.9,
           7.9,
           7.9,
           7.9,
           7.9,
           7.9,
           7.9,
           7.9,
           7.9,
           7.9,
           7.9,
           7.9,
           7.9,
           7.9,
           7.9,
           7.9,
           7.9,
           7.9,
           7.9,
           7.8,
           7.8,
           7.8,
           7.8,
           7.8,
           7.8,
           7.8,
           7.8,
           7.8,
           7.8,
           7.8,
           7.8,
           7.8,
           7.8,
           7.8,
           7.8,
           7.8,
           7.8,
           7.8,
           7.8,
           7.8,
           7.8,
           7.8,
           7.8,
           7.8,
           7.8,
           7.8,
           7.8,
           7.8,
           7.8,
           7.8,
           7.8,
           7.8,
           7.8,
           7.8,
           7.8,
           7.8,
           7.8,
           7.8,
           7.7,
           7.7,
           7.7,
           7.7,
           7.7,
           7.7,
           7.7,
           7.7,
           7.7,
           7.7,
           7.7,
           7.7,
           7.7,
           7.7,
           7.7,
           7.7,
           7.7,
           7.7,
           7.7,
           7.7,
           7.7,
           7.7,
           7.7,
           7.7,
           7.7,
           7.7,
           7.6,
           7.6,
           7.6,
           7.6,
           7.6,
           7.6,
           7.6,
           7.6,
           7.6,
           7.6,
           7.6,
           7.6,
           7.6,
           7.6,
           7.6,
           7.6,
           7.6,
           7.6,
           7.6,
           7.6,
           7.6,
           7.6,
           7.6,
           7.6,
           7.6,
           7.6,
           7.5,
           7.5,
           7.5,
           7.5,
           7.5,
           7.5,
           7.5,
           7.5,
           7.5,
           7.5,
           7.5,
           7.5,
           7.5,
           7.5,
           7.5,
           7.5,
           7.5,
           7.5,
           7.5,
           7.5,
           7.5,
           7.5,
           7.5,
           7.5,
           7.5,
           7.5,
           7.5,
           7.5,
           7.5,
           7.5,
           7.5,
           7.5,
           7.5,
           7.5,
           7.4,
           7.4,
           7.4,
           7.4,
           7.4,
           7.4,
           7.4,
           7.4,
           7.4,
           7.4,
           7.4,
           7.4,
           7.4,
           7.4,
           7.4,
           7.4,
           7.4,
           7.4,
           7.4,
           7.4,
           7.4,
           7.4,
           7.4,
           7.4,
           7.4,
           7.4,
           7.4,
           7.4,
           7.4,
           7.3
          ],
          "coloraxis": "coloraxis",
          "size": [
           533.32,
           292.57,
           187.99,
           13.18,
           4.68,
           13.09,
           132.37,
           448.13,
           11.28,
           1.2,
           53.08,
           6.52,
           162.8,
           82.95637614678898,
           0.61,
           151.06,
           120.52,
           414.98,
           82.95637614678898,
           292.98,
           37.62,
           14.68,
           13.65,
           20.17,
           356.45,
           10.57,
           6.86,
           67.12,
           116.87,
           60.96,
           167.74,
           169.71,
           380.96,
           623.28,
           56.67,
           341.26,
           333.13,
           18.35,
           74.27,
           127.97,
           2.01,
           44.99,
           91.12,
           59.07,
           40.22,
           82.95637614678898,
           26.9,
           3.08,
           3.49,
           227.14,
           153.63,
           217.39,
           51.69,
           936.63,
           167.01,
           162.59,
           3.23,
           57.37,
           3.4,
           106.95,
           25.56,
           141.32,
           206.44,
           27.3,
           228.43,
           233.91,
           17.74,
           138.8,
           363.02,
           257.7,
           115.65,
           183.64,
           100.5,
           48.02,
           82.95637614678898,
           32.28,
           532.17,
           100.19,
           258.36,
           318.3,
           82.95637614678898,
           25.36,
           408.08,
           124.98,
           2.28,
           23.62,
           303,
           7.76,
           177,
           47.7,
           35.29,
           5.01,
           5.88,
           161.03,
           5.2,
           2.2,
           6.74,
           132.09,
           42.34,
           102.52,
           222.49,
           277.31,
           259.75,
           274.08,
           189.41,
           127.49,
           0.29,
           50.86,
           107.1,
           130.13,
           70.24,
           10.1,
           9.03,
           257.76,
           124.87,
           0.09,
           146.41,
           304.36,
           228.76,
           169.27,
           59.89,
           15.29,
           54.12,
           760.51,
           1.4,
           21,
           45.51,
           145,
           200.81,
           22.49,
           82.95637614678898,
           35.05,
           93.57,
           35.71,
           255.95,
           48.04,
           33.05,
           75.28,
           40.98,
           0.69,
           248.75,
           75.59,
           82.95637614678898,
           38.35,
           20.3,
           25.44,
           34.96,
           56.82,
           294.98,
           26.86,
           136.02,
           17.11,
           3.36,
           35.89,
           32.39,
           210.59,
           96.92,
           69.95,
           251.5,
           128.25,
           424.65,
           1.48,
           92.17,
           85.71,
           19,
           75.61,
           18.33,
           171.03,
           88.5,
           176.74,
           72.31,
           3.33,
           109.71,
           39.83,
           209.02,
           148.78,
           3.19,
           46.88,
           232.6,
           121.46,
           107.5,
           15.7,
           215.4,
           0.15,
           0.92,
           208.54,
           3.73,
           292,
           54.7,
           143.49,
           31.66,
           36.58,
           0.01,
           137.39,
           3.9,
           27.1,
           31.49,
           234.02,
           0.79,
           2.21,
           38.32,
           83.3,
           0.86,
           1.74,
           2.14,
           27.85,
           2.13,
           0.13,
           125.07,
           73.82,
           34.3,
           82.95637614678898,
           364,
           0.51,
           10.64,
           95,
           186.83,
           125.07,
           301.96,
           400.74,
           66.47,
           209.36,
           79.24,
           52.42,
           0.04,
           24.34,
           5.66,
           95.72,
           47.11,
           182.2,
           255.11,
           52.88,
           368.05,
           14.26,
           16.17,
           486.29,
           36.25,
           458.99,
           11.23,
           86.2,
           15.79,
           73.34,
           84.24,
           8.81,
           102.46,
           31.86,
           56.23,
           195,
           9.7,
           0.33
          ],
          "sizemode": "area",
          "sizeref": 0.260175,
          "symbol": "circle"
         },
         "mode": "markers",
         "name": "",
         "orientation": "v",
         "showlegend": false,
         "type": "scatter",
         "x": [
          9,
          8.8,
          8.6,
          8.6,
          8.6,
          8.5,
          8.5,
          8.5,
          8.5,
          8.5,
          8.5,
          8.4,
          8.4,
          8.4,
          8.3,
          8.3,
          8.3,
          8.3,
          8.3,
          8.3,
          8.2,
          8.2,
          8.2,
          8.2,
          8.2,
          8.2,
          8.2,
          8.2,
          8.2,
          8.1,
          8.1,
          8.1,
          8.1,
          8.1,
          8.1,
          8.1,
          8.1,
          8.1,
          8.1,
          8.1,
          8.1,
          8.1,
          8.1,
          8.1,
          8.1,
          8.1,
          8.1,
          8.1,
          8.1,
          8.1,
          8.1,
          8.1,
          8.1,
          8.1,
          8,
          8,
          8,
          8,
          8,
          8,
          8,
          8,
          8,
          8,
          8,
          8,
          8,
          8,
          8,
          8,
          8,
          8,
          8,
          7.9,
          7.9,
          7.9,
          7.9,
          7.9,
          7.9,
          7.9,
          7.9,
          7.9,
          7.9,
          7.9,
          7.9,
          7.9,
          7.9,
          7.9,
          7.9,
          7.9,
          7.9,
          7.9,
          7.9,
          7.9,
          7.9,
          7.8,
          7.8,
          7.8,
          7.8,
          7.8,
          7.8,
          7.8,
          7.8,
          7.8,
          7.8,
          7.8,
          7.8,
          7.8,
          7.8,
          7.8,
          7.8,
          7.8,
          7.8,
          7.8,
          7.8,
          7.8,
          7.8,
          7.8,
          7.8,
          7.8,
          7.8,
          7.8,
          7.8,
          7.8,
          7.8,
          7.8,
          7.8,
          7.8,
          7.8,
          7.8,
          7.8,
          7.8,
          7.8,
          7.8,
          7.7,
          7.7,
          7.7,
          7.7,
          7.7,
          7.7,
          7.7,
          7.7,
          7.7,
          7.7,
          7.7,
          7.7,
          7.7,
          7.7,
          7.7,
          7.7,
          7.7,
          7.7,
          7.7,
          7.7,
          7.7,
          7.7,
          7.7,
          7.7,
          7.7,
          7.7,
          7.6,
          7.6,
          7.6,
          7.6,
          7.6,
          7.6,
          7.6,
          7.6,
          7.6,
          7.6,
          7.6,
          7.6,
          7.6,
          7.6,
          7.6,
          7.6,
          7.6,
          7.6,
          7.6,
          7.6,
          7.6,
          7.6,
          7.6,
          7.6,
          7.6,
          7.6,
          7.5,
          7.5,
          7.5,
          7.5,
          7.5,
          7.5,
          7.5,
          7.5,
          7.5,
          7.5,
          7.5,
          7.5,
          7.5,
          7.5,
          7.5,
          7.5,
          7.5,
          7.5,
          7.5,
          7.5,
          7.5,
          7.5,
          7.5,
          7.5,
          7.5,
          7.5,
          7.5,
          7.5,
          7.5,
          7.5,
          7.5,
          7.5,
          7.5,
          7.5,
          7.4,
          7.4,
          7.4,
          7.4,
          7.4,
          7.4,
          7.4,
          7.4,
          7.4,
          7.4,
          7.4,
          7.4,
          7.4,
          7.4,
          7.4,
          7.4,
          7.4,
          7.4,
          7.4,
          7.4,
          7.4,
          7.4,
          7.4,
          7.4,
          7.4,
          7.4,
          7.4,
          7.4,
          7.4,
          7.3
         ],
         "xaxis": "x",
         "y": [
          533.32,
          292.57,
          187.99,
          13.18,
          4.68,
          13.09,
          132.37,
          448.13,
          11.28,
          1.2,
          53.08,
          6.52,
          162.8,
          82.95637614678898,
          0.61,
          151.06,
          120.52,
          414.98,
          82.95637614678898,
          292.98,
          37.62,
          14.68,
          13.65,
          20.17,
          356.45,
          10.57,
          6.86,
          67.12,
          116.87,
          60.96,
          167.74,
          169.71,
          380.96,
          623.28,
          56.67,
          341.26,
          333.13,
          18.35,
          74.27,
          127.97,
          2.01,
          44.99,
          91.12,
          59.07,
          40.22,
          82.95637614678898,
          26.9,
          3.08,
          3.49,
          227.14,
          153.63,
          217.39,
          51.69,
          936.63,
          167.01,
          162.59,
          3.23,
          57.37,
          3.4,
          106.95,
          25.56,
          141.32,
          206.44,
          27.3,
          228.43,
          233.91,
          17.74,
          138.8,
          363.02,
          257.7,
          115.65,
          183.64,
          100.5,
          48.02,
          82.95637614678898,
          32.28,
          532.17,
          100.19,
          258.36,
          318.3,
          82.95637614678898,
          25.36,
          408.08,
          124.98,
          2.28,
          23.62,
          303,
          7.76,
          177,
          47.7,
          35.29,
          5.01,
          5.88,
          161.03,
          5.2,
          2.2,
          6.74,
          132.09,
          42.34,
          102.52,
          222.49,
          277.31,
          259.75,
          274.08,
          189.41,
          127.49,
          0.29,
          50.86,
          107.1,
          130.13,
          70.24,
          10.1,
          9.03,
          257.76,
          124.87,
          0.09,
          146.41,
          304.36,
          228.76,
          169.27,
          59.89,
          15.29,
          54.12,
          760.51,
          1.4,
          21,
          45.51,
          145,
          200.81,
          22.49,
          82.95637614678898,
          35.05,
          93.57,
          35.71,
          255.95,
          48.04,
          33.05,
          75.28,
          40.98,
          0.69,
          248.75,
          75.59,
          82.95637614678898,
          38.35,
          20.3,
          25.44,
          34.96,
          56.82,
          294.98,
          26.86,
          136.02,
          17.11,
          3.36,
          35.89,
          32.39,
          210.59,
          96.92,
          69.95,
          251.5,
          128.25,
          424.65,
          1.48,
          92.17,
          85.71,
          19,
          75.61,
          18.33,
          171.03,
          88.5,
          176.74,
          72.31,
          3.33,
          109.71,
          39.83,
          209.02,
          148.78,
          3.19,
          46.88,
          232.6,
          121.46,
          107.5,
          15.7,
          215.4,
          0.15,
          0.92,
          208.54,
          3.73,
          292,
          54.7,
          143.49,
          31.66,
          36.58,
          0.01,
          137.39,
          3.9,
          27.1,
          31.49,
          234.02,
          0.79,
          2.21,
          38.32,
          83.3,
          0.86,
          1.74,
          2.14,
          27.85,
          2.13,
          0.13,
          125.07,
          73.82,
          34.3,
          82.95637614678898,
          364,
          0.51,
          10.64,
          95,
          186.83,
          125.07,
          301.96,
          400.74,
          66.47,
          209.36,
          79.24,
          52.42,
          0.04,
          24.34,
          5.66,
          95.72,
          47.11,
          182.2,
          255.11,
          52.88,
          368.05,
          14.26,
          16.17,
          486.29,
          36.25,
          458.99,
          11.23,
          86.2,
          15.79,
          73.34,
          84.24,
          8.81,
          102.46,
          31.86,
          56.23,
          195,
          9.7,
          0.33
         ],
         "yaxis": "y"
        }
       ],
       "layout": {
        "coloraxis": {
         "colorbar": {
          "title": {
           "text": "rating"
          }
         },
         "colorscale": [
          [
           0,
           "#0d0887"
          ],
          [
           0.1111111111111111,
           "#46039f"
          ],
          [
           0.2222222222222222,
           "#7201a8"
          ],
          [
           0.3333333333333333,
           "#9c179e"
          ],
          [
           0.4444444444444444,
           "#bd3786"
          ],
          [
           0.5555555555555556,
           "#d8576b"
          ],
          [
           0.6666666666666666,
           "#ed7953"
          ],
          [
           0.7777777777777778,
           "#fb9f3a"
          ],
          [
           0.8888888888888888,
           "#fdca26"
          ],
          [
           1,
           "#f0f921"
          ]
         ]
        },
        "legend": {
         "itemsizing": "constant",
         "tracegroupgap": 0
        },
        "margin": {
         "t": 60
        },
        "template": {
         "data": {
          "bar": [
           {
            "error_x": {
             "color": "#2a3f5f"
            },
            "error_y": {
             "color": "#2a3f5f"
            },
            "marker": {
             "line": {
              "color": "#E5ECF6",
              "width": 0.5
             },
             "pattern": {
              "fillmode": "overlay",
              "size": 10,
              "solidity": 0.2
             }
            },
            "type": "bar"
           }
          ],
          "barpolar": [
           {
            "marker": {
             "line": {
              "color": "#E5ECF6",
              "width": 0.5
             },
             "pattern": {
              "fillmode": "overlay",
              "size": 10,
              "solidity": 0.2
             }
            },
            "type": "barpolar"
           }
          ],
          "carpet": [
           {
            "aaxis": {
             "endlinecolor": "#2a3f5f",
             "gridcolor": "white",
             "linecolor": "white",
             "minorgridcolor": "white",
             "startlinecolor": "#2a3f5f"
            },
            "baxis": {
             "endlinecolor": "#2a3f5f",
             "gridcolor": "white",
             "linecolor": "white",
             "minorgridcolor": "white",
             "startlinecolor": "#2a3f5f"
            },
            "type": "carpet"
           }
          ],
          "choropleth": [
           {
            "colorbar": {
             "outlinewidth": 0,
             "ticks": ""
            },
            "type": "choropleth"
           }
          ],
          "contour": [
           {
            "colorbar": {
             "outlinewidth": 0,
             "ticks": ""
            },
            "colorscale": [
             [
              0,
              "#0d0887"
             ],
             [
              0.1111111111111111,
              "#46039f"
             ],
             [
              0.2222222222222222,
              "#7201a8"
             ],
             [
              0.3333333333333333,
              "#9c179e"
             ],
             [
              0.4444444444444444,
              "#bd3786"
             ],
             [
              0.5555555555555556,
              "#d8576b"
             ],
             [
              0.6666666666666666,
              "#ed7953"
             ],
             [
              0.7777777777777778,
              "#fb9f3a"
             ],
             [
              0.8888888888888888,
              "#fdca26"
             ],
             [
              1,
              "#f0f921"
             ]
            ],
            "type": "contour"
           }
          ],
          "contourcarpet": [
           {
            "colorbar": {
             "outlinewidth": 0,
             "ticks": ""
            },
            "type": "contourcarpet"
           }
          ],
          "heatmap": [
           {
            "colorbar": {
             "outlinewidth": 0,
             "ticks": ""
            },
            "colorscale": [
             [
              0,
              "#0d0887"
             ],
             [
              0.1111111111111111,
              "#46039f"
             ],
             [
              0.2222222222222222,
              "#7201a8"
             ],
             [
              0.3333333333333333,
              "#9c179e"
             ],
             [
              0.4444444444444444,
              "#bd3786"
             ],
             [
              0.5555555555555556,
              "#d8576b"
             ],
             [
              0.6666666666666666,
              "#ed7953"
             ],
             [
              0.7777777777777778,
              "#fb9f3a"
             ],
             [
              0.8888888888888888,
              "#fdca26"
             ],
             [
              1,
              "#f0f921"
             ]
            ],
            "type": "heatmap"
           }
          ],
          "heatmapgl": [
           {
            "colorbar": {
             "outlinewidth": 0,
             "ticks": ""
            },
            "colorscale": [
             [
              0,
              "#0d0887"
             ],
             [
              0.1111111111111111,
              "#46039f"
             ],
             [
              0.2222222222222222,
              "#7201a8"
             ],
             [
              0.3333333333333333,
              "#9c179e"
             ],
             [
              0.4444444444444444,
              "#bd3786"
             ],
             [
              0.5555555555555556,
              "#d8576b"
             ],
             [
              0.6666666666666666,
              "#ed7953"
             ],
             [
              0.7777777777777778,
              "#fb9f3a"
             ],
             [
              0.8888888888888888,
              "#fdca26"
             ],
             [
              1,
              "#f0f921"
             ]
            ],
            "type": "heatmapgl"
           }
          ],
          "histogram": [
           {
            "marker": {
             "pattern": {
              "fillmode": "overlay",
              "size": 10,
              "solidity": 0.2
             }
            },
            "type": "histogram"
           }
          ],
          "histogram2d": [
           {
            "colorbar": {
             "outlinewidth": 0,
             "ticks": ""
            },
            "colorscale": [
             [
              0,
              "#0d0887"
             ],
             [
              0.1111111111111111,
              "#46039f"
             ],
             [
              0.2222222222222222,
              "#7201a8"
             ],
             [
              0.3333333333333333,
              "#9c179e"
             ],
             [
              0.4444444444444444,
              "#bd3786"
             ],
             [
              0.5555555555555556,
              "#d8576b"
             ],
             [
              0.6666666666666666,
              "#ed7953"
             ],
             [
              0.7777777777777778,
              "#fb9f3a"
             ],
             [
              0.8888888888888888,
              "#fdca26"
             ],
             [
              1,
              "#f0f921"
             ]
            ],
            "type": "histogram2d"
           }
          ],
          "histogram2dcontour": [
           {
            "colorbar": {
             "outlinewidth": 0,
             "ticks": ""
            },
            "colorscale": [
             [
              0,
              "#0d0887"
             ],
             [
              0.1111111111111111,
              "#46039f"
             ],
             [
              0.2222222222222222,
              "#7201a8"
             ],
             [
              0.3333333333333333,
              "#9c179e"
             ],
             [
              0.4444444444444444,
              "#bd3786"
             ],
             [
              0.5555555555555556,
              "#d8576b"
             ],
             [
              0.6666666666666666,
              "#ed7953"
             ],
             [
              0.7777777777777778,
              "#fb9f3a"
             ],
             [
              0.8888888888888888,
              "#fdca26"
             ],
             [
              1,
              "#f0f921"
             ]
            ],
            "type": "histogram2dcontour"
           }
          ],
          "mesh3d": [
           {
            "colorbar": {
             "outlinewidth": 0,
             "ticks": ""
            },
            "type": "mesh3d"
           }
          ],
          "parcoords": [
           {
            "line": {
             "colorbar": {
              "outlinewidth": 0,
              "ticks": ""
             }
            },
            "type": "parcoords"
           }
          ],
          "pie": [
           {
            "automargin": true,
            "type": "pie"
           }
          ],
          "scatter": [
           {
            "fillpattern": {
             "fillmode": "overlay",
             "size": 10,
             "solidity": 0.2
            },
            "type": "scatter"
           }
          ],
          "scatter3d": [
           {
            "line": {
             "colorbar": {
              "outlinewidth": 0,
              "ticks": ""
             }
            },
            "marker": {
             "colorbar": {
              "outlinewidth": 0,
              "ticks": ""
             }
            },
            "type": "scatter3d"
           }
          ],
          "scattercarpet": [
           {
            "marker": {
             "colorbar": {
              "outlinewidth": 0,
              "ticks": ""
             }
            },
            "type": "scattercarpet"
           }
          ],
          "scattergeo": [
           {
            "marker": {
             "colorbar": {
              "outlinewidth": 0,
              "ticks": ""
             }
            },
            "type": "scattergeo"
           }
          ],
          "scattergl": [
           {
            "marker": {
             "colorbar": {
              "outlinewidth": 0,
              "ticks": ""
             }
            },
            "type": "scattergl"
           }
          ],
          "scattermapbox": [
           {
            "marker": {
             "colorbar": {
              "outlinewidth": 0,
              "ticks": ""
             }
            },
            "type": "scattermapbox"
           }
          ],
          "scatterpolar": [
           {
            "marker": {
             "colorbar": {
              "outlinewidth": 0,
              "ticks": ""
             }
            },
            "type": "scatterpolar"
           }
          ],
          "scatterpolargl": [
           {
            "marker": {
             "colorbar": {
              "outlinewidth": 0,
              "ticks": ""
             }
            },
            "type": "scatterpolargl"
           }
          ],
          "scatterternary": [
           {
            "marker": {
             "colorbar": {
              "outlinewidth": 0,
              "ticks": ""
             }
            },
            "type": "scatterternary"
           }
          ],
          "surface": [
           {
            "colorbar": {
             "outlinewidth": 0,
             "ticks": ""
            },
            "colorscale": [
             [
              0,
              "#0d0887"
             ],
             [
              0.1111111111111111,
              "#46039f"
             ],
             [
              0.2222222222222222,
              "#7201a8"
             ],
             [
              0.3333333333333333,
              "#9c179e"
             ],
             [
              0.4444444444444444,
              "#bd3786"
             ],
             [
              0.5555555555555556,
              "#d8576b"
             ],
             [
              0.6666666666666666,
              "#ed7953"
             ],
             [
              0.7777777777777778,
              "#fb9f3a"
             ],
             [
              0.8888888888888888,
              "#fdca26"
             ],
             [
              1,
              "#f0f921"
             ]
            ],
            "type": "surface"
           }
          ],
          "table": [
           {
            "cells": {
             "fill": {
              "color": "#EBF0F8"
             },
             "line": {
              "color": "white"
             }
            },
            "header": {
             "fill": {
              "color": "#C8D4E3"
             },
             "line": {
              "color": "white"
             }
            },
            "type": "table"
           }
          ]
         },
         "layout": {
          "annotationdefaults": {
           "arrowcolor": "#2a3f5f",
           "arrowhead": 0,
           "arrowwidth": 1
          },
          "autotypenumbers": "strict",
          "coloraxis": {
           "colorbar": {
            "outlinewidth": 0,
            "ticks": ""
           }
          },
          "colorscale": {
           "diverging": [
            [
             0,
             "#8e0152"
            ],
            [
             0.1,
             "#c51b7d"
            ],
            [
             0.2,
             "#de77ae"
            ],
            [
             0.3,
             "#f1b6da"
            ],
            [
             0.4,
             "#fde0ef"
            ],
            [
             0.5,
             "#f7f7f7"
            ],
            [
             0.6,
             "#e6f5d0"
            ],
            [
             0.7,
             "#b8e186"
            ],
            [
             0.8,
             "#7fbc41"
            ],
            [
             0.9,
             "#4d9221"
            ],
            [
             1,
             "#276419"
            ]
           ],
           "sequential": [
            [
             0,
             "#0d0887"
            ],
            [
             0.1111111111111111,
             "#46039f"
            ],
            [
             0.2222222222222222,
             "#7201a8"
            ],
            [
             0.3333333333333333,
             "#9c179e"
            ],
            [
             0.4444444444444444,
             "#bd3786"
            ],
            [
             0.5555555555555556,
             "#d8576b"
            ],
            [
             0.6666666666666666,
             "#ed7953"
            ],
            [
             0.7777777777777778,
             "#fb9f3a"
            ],
            [
             0.8888888888888888,
             "#fdca26"
            ],
            [
             1,
             "#f0f921"
            ]
           ],
           "sequentialminus": [
            [
             0,
             "#0d0887"
            ],
            [
             0.1111111111111111,
             "#46039f"
            ],
            [
             0.2222222222222222,
             "#7201a8"
            ],
            [
             0.3333333333333333,
             "#9c179e"
            ],
            [
             0.4444444444444444,
             "#bd3786"
            ],
            [
             0.5555555555555556,
             "#d8576b"
            ],
            [
             0.6666666666666666,
             "#ed7953"
            ],
            [
             0.7777777777777778,
             "#fb9f3a"
            ],
            [
             0.8888888888888888,
             "#fdca26"
            ],
            [
             1,
             "#f0f921"
            ]
           ]
          },
          "colorway": [
           "#636efa",
           "#EF553B",
           "#00cc96",
           "#ab63fa",
           "#FFA15A",
           "#19d3f3",
           "#FF6692",
           "#B6E880",
           "#FF97FF",
           "#FECB52"
          ],
          "font": {
           "color": "#2a3f5f"
          },
          "geo": {
           "bgcolor": "white",
           "lakecolor": "white",
           "landcolor": "#E5ECF6",
           "showlakes": true,
           "showland": true,
           "subunitcolor": "white"
          },
          "hoverlabel": {
           "align": "left"
          },
          "hovermode": "closest",
          "mapbox": {
           "style": "light"
          },
          "paper_bgcolor": "white",
          "plot_bgcolor": "#E5ECF6",
          "polar": {
           "angularaxis": {
            "gridcolor": "white",
            "linecolor": "white",
            "ticks": ""
           },
           "bgcolor": "#E5ECF6",
           "radialaxis": {
            "gridcolor": "white",
            "linecolor": "white",
            "ticks": ""
           }
          },
          "scene": {
           "xaxis": {
            "backgroundcolor": "#E5ECF6",
            "gridcolor": "white",
            "gridwidth": 2,
            "linecolor": "white",
            "showbackground": true,
            "ticks": "",
            "zerolinecolor": "white"
           },
           "yaxis": {
            "backgroundcolor": "#E5ECF6",
            "gridcolor": "white",
            "gridwidth": 2,
            "linecolor": "white",
            "showbackground": true,
            "ticks": "",
            "zerolinecolor": "white"
           },
           "zaxis": {
            "backgroundcolor": "#E5ECF6",
            "gridcolor": "white",
            "gridwidth": 2,
            "linecolor": "white",
            "showbackground": true,
            "ticks": "",
            "zerolinecolor": "white"
           }
          },
          "shapedefaults": {
           "line": {
            "color": "#2a3f5f"
           }
          },
          "ternary": {
           "aaxis": {
            "gridcolor": "white",
            "linecolor": "white",
            "ticks": ""
           },
           "baxis": {
            "gridcolor": "white",
            "linecolor": "white",
            "ticks": ""
           },
           "bgcolor": "#E5ECF6",
           "caxis": {
            "gridcolor": "white",
            "linecolor": "white",
            "ticks": ""
           }
          },
          "title": {
           "x": 0.05
          },
          "xaxis": {
           "automargin": true,
           "gridcolor": "white",
           "linecolor": "white",
           "ticks": "",
           "title": {
            "standoff": 15
           },
           "zerolinecolor": "white",
           "zerolinewidth": 2
          },
          "yaxis": {
           "automargin": true,
           "gridcolor": "white",
           "linecolor": "white",
           "ticks": "",
           "title": {
            "standoff": 15
           },
           "zerolinecolor": "white",
           "zerolinewidth": 2
          }
         }
        },
        "xaxis": {
         "anchor": "y",
         "domain": [
          0,
          1
         ],
         "title": {
          "text": "rating"
         }
        },
        "yaxis": {
         "anchor": "x",
         "domain": [
          0,
          1
         ],
         "title": {
          "text": "revenue"
         }
        }
       }
      },
      "text/html": [
       "<div>                            <div id=\"e29948db-a769-4d4a-b3b3-878ed5c695d2\" class=\"plotly-graph-div\" style=\"height:525px; width:100%;\"></div>            <script type=\"text/javascript\">                require([\"plotly\"], function(Plotly) {                    window.PLOTLYENV=window.PLOTLYENV || {};                                    if (document.getElementById(\"e29948db-a769-4d4a-b3b3-878ed5c695d2\")) {                    Plotly.newPlot(                        \"e29948db-a769-4d4a-b3b3-878ed5c695d2\",                        [{\"hovertemplate\":\"<b>%{hovertext}</b><br><br>rating=%{marker.color}<br>revenue=%{marker.size}<extra></extra>\",\"hovertext\":[\"The Dark Knight\",\"Inception\",\"Interstellar\",\"The Intouchables\",\"Kimi no na wa\",\"Whiplash\",\"The Departed\",\"The Dark Knight Rises\",\"The Lives of Others\",\"Taare Zameen Par\",\"The Prestige\",\"3 Idiots\",\"Django Unchained\",\"Koe no katachi\",\"Jagten\",\"La La Land\",\"Inglourious Basterds\",\"Toy Story 3\",\"Paint It Black\",\"Up\",\"Pan's Labyrinth\",\"Room\",\"Warrior\",\"El secreto de sus ojos\",\"Inside Out\",\"PK\",\"Incendies\",\"Hacksaw Ridge\",\"The Wolf of Wall Street\",\"Prisoners\",\"Gone Girl\",\"The Help\",\"Harry Potter and the Deathly Hallows: Part 2\",\"The Avengers\",\"12 Years a Slave\",\"Zootopia\",\"Guardians of the Galaxy\",\"Into the Wild\",\"No Country for Old Men\",\"Shutter Island\",\"Ah-ga-ssi\",\"Spotlight\",\"The Imitation Game\",\"The Grand Budapest Hotel\",\"There Will Be Blood\",\"Hachi: A Dog's Tale\",\"Rush\",\"Relatos salvajes\",\"Mommy\",\"The Bourne Ultimatum\",\"Mad Max: Fury Road\",\"How to Train Your Dragon\",\"Lion\",\"Star Wars: Episode VII - The Force Awakens\",\"Casino Royale\",\"The Pursuit of Happyness\",\"Sing Street\",\"Blood Diamond\",\"Forushande\",\"Black Swan\",\"Her\",\"Slumdog Millionaire\",\"Ratatouille\",\"Dallas Buyers Club\",\"The Martian\",\"X-Men: Days of Future Past\",\"The Perks of Being a Wallflower\",\"The King's Speech\",\"Deadpool\",\"Star Trek\",\"District 9\",\"The Revenant\",\"Arrival\",\"Kubo and the Two Strings\",\"Mr. Nobody\",\"Nightcrawler\",\"Rogue One\",\"Edge of Tomorrow\",\"The Hobbit: The Desolation of Smaug\",\"Iron Man\",\"I, Daniel Blake\",\"Boyhood\",\"Captain America: Civil War\",\"Life of Pi\",\"The Fall\",\"Hot Fuzz\",\"The Hobbit: An Unexpected Journey\",\"In Bruges\",\"How to Train Your Dragon 2\",\"Manchester by the Sea\",\"Children of Men\",\"Moon\",\"Captain Fantastic\",\"Straight Outta Compton\",\"Hunt for the Wilderpeople\",\"La vie d'Ad\\u00e8le\",\"Me and Earl and the Dying Girl\",\"Silver Linings Playbook\",\"Birdman or (The Unexpected Virtue of Ignorance)\",\"The Girl with the Dragon Tattoo\",\"Big Hero 6\",\"The Hangover\",\"Captain America: The Winter Soldier\",\"Gravity\",\"Wreck-It Ralph\",\"The Curious Case of Benjamin Button\",\"Ma vie de Courgette\",\"Apocalypto\",\"Captain Phillips\",\"American Gangster\",\"The Big Short\",\"M\\u00e4n som hatar kvinnor\",\"The Boy in the Striped Pyjamas\",\"The Lego Movie\",\"The Fault in Our Stars\",\"La migliore offerta\",\"X: First Class\",\"Skyfall\",\"Star Trek Into Darkness\",\"Hidden Figures\",\"Little Miss Sunshine\",\"About Time\",\"The Hateful Eight\",\"Avatar\",\"Dear Zindagi\",\"Fantastic Mr. Fox\",\"Moonrise Kingdom\",\"Taken\",\"Tangled\",\"Lucky Number Slevin\",\"Maudie\",\"Drive\",\"The Fighter\",\"Changeling\",\"The Blind Side\",\"Kick-Ass\",\"Zodiac\",\"Coraline\",\"End of Watch\",\"Mr. Church\",\"Moana\",\"Zombieland\",\"Perfetti sconosciuti\",\"Stardust\",\"Gone Baby Gone\",\"Ex Machina\",\"50/50\",\"Midnight in Paris\",\"Harry Potter and the Deathly Hallows: Part 1\",\"Hell or High Water\",\"Argo\",\"Eastern Promises\",\"En man som heter Ove\",\"The Theory of Everything\",\"(500) Days of Summer\",\"300\",\"The Social Network\",\"Seven Pounds\",\"Despicable Me\",\"Kingsman: The Secret Service\",\"The Hunger Games: Catching Fire\",\"Toni Erdmann\",\"The Town\",\"Fury\",\"The imposible\",\"Moneyball\",\"127 Hours\",\"True Grit\",\"Inside Man\",\"Rise of the Planet of the Apes\",\"Bridge of Spies\",\"What We Do in the Shadows\",\"Creed\",\"The Illusionist\",\"Sherlock Holmes\",\"Les Mis\\u00e9rables\",\"The Skin I Live In\",\"Sicario\",\"Doctor Strange\",\"Superbad\",\"Watchmen\",\"The Hurt Locker\",\"Kung Fu Panda\",\"Hunger\",\"La tortue rouge\",\"Dawn of the Planet of the Apes\",\"A Monster Calls\",\"Harry Potter and the Order of the Phoenix\",\"Source Code\",\"Juno\",\"August Rush\",\"Freedom Writers\",\"Wakefield\",\"The Conjuring\",\"The Assassination of Jesse James by the Coward Robert Ford\",\"Cloud Atlas\",\"Scott Pilgrim vs. the World\",\"Fantastic Beasts and Where to Find Them\",\"Goksung\",\"Perfume: The Story of a Murderer\",\"Brooklyn\",\"Saving Mr. Banks\",\"Frantz\",\"We Need to Talk About Kevin\",\"Paterson\",\"Moonlight\",\"Busanhaeng\",\"Bacalaureat\",\"Lone Survivor\",\"Hugo\",\"Babel\",\"Predestination\",\"The Jungle Book\",\"Raw (II)\",\"Nocturnal Animals\",\"42\",\"Sherlock Holmes: A Game of Shadows\",\"Sully\",\"Harry Potter and the Half-Blood Prince\",\"Frozen\",\"Looper\",\"Mission: Impossible - Ghost Protocol\",\"Limitless\",\"Southpaw\",\"A Street Cat Named Bob\",\"Across the Universe\",\"20th Century Women\",\"Zero Dark Thirty\",\"The Judge\",\"Lincoln\",\"The Hobbit: The Battle of the Five Armies\",\"Sweeney Todd: The Demon Barber of Fleet Street\",\"Despicable Me 2\",\"The Edge of Seventeen\",\"Begin Again\",\"Finding Dory\",\"The Nice Guys\",\"Avengers: Age of Ultron\",\"Jane Eyre\",\"The Accountant\",\"Eddie the Eagle\",\"Law Abiding Citizen\",\"Crazy, Stupid, Love.\",\"Queen of Katwe\",\"The Conjuring 2\",\"Patriots Day\",\"Me Before You\",\"Mission: Impossible - Rogue Nation\",\"Blue Valentine\",\"I Origins\"],\"legendgroup\":\"\",\"marker\":{\"color\":[9.0,8.8,8.6,8.6,8.6,8.5,8.5,8.5,8.5,8.5,8.5,8.4,8.4,8.4,8.3,8.3,8.3,8.3,8.3,8.3,8.2,8.2,8.2,8.2,8.2,8.2,8.2,8.2,8.2,8.1,8.1,8.1,8.1,8.1,8.1,8.1,8.1,8.1,8.1,8.1,8.1,8.1,8.1,8.1,8.1,8.1,8.1,8.1,8.1,8.1,8.1,8.1,8.1,8.1,8.0,8.0,8.0,8.0,8.0,8.0,8.0,8.0,8.0,8.0,8.0,8.0,8.0,8.0,8.0,8.0,8.0,8.0,8.0,7.9,7.9,7.9,7.9,7.9,7.9,7.9,7.9,7.9,7.9,7.9,7.9,7.9,7.9,7.9,7.9,7.9,7.9,7.9,7.9,7.9,7.9,7.8,7.8,7.8,7.8,7.8,7.8,7.8,7.8,7.8,7.8,7.8,7.8,7.8,7.8,7.8,7.8,7.8,7.8,7.8,7.8,7.8,7.8,7.8,7.8,7.8,7.8,7.8,7.8,7.8,7.8,7.8,7.8,7.8,7.8,7.8,7.8,7.8,7.8,7.8,7.7,7.7,7.7,7.7,7.7,7.7,7.7,7.7,7.7,7.7,7.7,7.7,7.7,7.7,7.7,7.7,7.7,7.7,7.7,7.7,7.7,7.7,7.7,7.7,7.7,7.7,7.6,7.6,7.6,7.6,7.6,7.6,7.6,7.6,7.6,7.6,7.6,7.6,7.6,7.6,7.6,7.6,7.6,7.6,7.6,7.6,7.6,7.6,7.6,7.6,7.6,7.6,7.5,7.5,7.5,7.5,7.5,7.5,7.5,7.5,7.5,7.5,7.5,7.5,7.5,7.5,7.5,7.5,7.5,7.5,7.5,7.5,7.5,7.5,7.5,7.5,7.5,7.5,7.5,7.5,7.5,7.5,7.5,7.5,7.5,7.5,7.4,7.4,7.4,7.4,7.4,7.4,7.4,7.4,7.4,7.4,7.4,7.4,7.4,7.4,7.4,7.4,7.4,7.4,7.4,7.4,7.4,7.4,7.4,7.4,7.4,7.4,7.4,7.4,7.4,7.3],\"coloraxis\":\"coloraxis\",\"size\":[533.32,292.57,187.99,13.18,4.68,13.09,132.37,448.13,11.28,1.2,53.08,6.52,162.8,82.95637614678898,0.61,151.06,120.52,414.98,82.95637614678898,292.98,37.62,14.68,13.65,20.17,356.45,10.57,6.86,67.12,116.87,60.96,167.74,169.71,380.96,623.28,56.67,341.26,333.13,18.35,74.27,127.97,2.01,44.99,91.12,59.07,40.22,82.95637614678898,26.9,3.08,3.49,227.14,153.63,217.39,51.69,936.63,167.01,162.59,3.23,57.37,3.4,106.95,25.56,141.32,206.44,27.3,228.43,233.91,17.74,138.8,363.02,257.7,115.65,183.64,100.5,48.02,82.95637614678898,32.28,532.17,100.19,258.36,318.3,82.95637614678898,25.36,408.08,124.98,2.28,23.62,303.0,7.76,177.0,47.7,35.29,5.01,5.88,161.03,5.2,2.2,6.74,132.09,42.34,102.52,222.49,277.31,259.75,274.08,189.41,127.49,0.29,50.86,107.1,130.13,70.24,10.1,9.03,257.76,124.87,0.09,146.41,304.36,228.76,169.27,59.89,15.29,54.12,760.51,1.4,21.0,45.51,145.0,200.81,22.49,82.95637614678898,35.05,93.57,35.71,255.95,48.04,33.05,75.28,40.98,0.69,248.75,75.59,82.95637614678898,38.35,20.3,25.44,34.96,56.82,294.98,26.86,136.02,17.11,3.36,35.89,32.39,210.59,96.92,69.95,251.5,128.25,424.65,1.48,92.17,85.71,19.0,75.61,18.33,171.03,88.5,176.74,72.31,3.33,109.71,39.83,209.02,148.78,3.19,46.88,232.6,121.46,107.5,15.7,215.4,0.15,0.92,208.54,3.73,292.0,54.7,143.49,31.66,36.58,0.01,137.39,3.9,27.1,31.49,234.02,0.79,2.21,38.32,83.3,0.86,1.74,2.14,27.85,2.13,0.13,125.07,73.82,34.3,82.95637614678898,364.0,0.51,10.64,95.0,186.83,125.07,301.96,400.74,66.47,209.36,79.24,52.42,0.04,24.34,5.66,95.72,47.11,182.2,255.11,52.88,368.05,14.26,16.17,486.29,36.25,458.99,11.23,86.2,15.79,73.34,84.24,8.81,102.46,31.86,56.23,195.0,9.7,0.33],\"sizemode\":\"area\",\"sizeref\":0.260175,\"symbol\":\"circle\"},\"mode\":\"markers\",\"name\":\"\",\"orientation\":\"v\",\"showlegend\":false,\"x\":[9.0,8.8,8.6,8.6,8.6,8.5,8.5,8.5,8.5,8.5,8.5,8.4,8.4,8.4,8.3,8.3,8.3,8.3,8.3,8.3,8.2,8.2,8.2,8.2,8.2,8.2,8.2,8.2,8.2,8.1,8.1,8.1,8.1,8.1,8.1,8.1,8.1,8.1,8.1,8.1,8.1,8.1,8.1,8.1,8.1,8.1,8.1,8.1,8.1,8.1,8.1,8.1,8.1,8.1,8.0,8.0,8.0,8.0,8.0,8.0,8.0,8.0,8.0,8.0,8.0,8.0,8.0,8.0,8.0,8.0,8.0,8.0,8.0,7.9,7.9,7.9,7.9,7.9,7.9,7.9,7.9,7.9,7.9,7.9,7.9,7.9,7.9,7.9,7.9,7.9,7.9,7.9,7.9,7.9,7.9,7.8,7.8,7.8,7.8,7.8,7.8,7.8,7.8,7.8,7.8,7.8,7.8,7.8,7.8,7.8,7.8,7.8,7.8,7.8,7.8,7.8,7.8,7.8,7.8,7.8,7.8,7.8,7.8,7.8,7.8,7.8,7.8,7.8,7.8,7.8,7.8,7.8,7.8,7.8,7.7,7.7,7.7,7.7,7.7,7.7,7.7,7.7,7.7,7.7,7.7,7.7,7.7,7.7,7.7,7.7,7.7,7.7,7.7,7.7,7.7,7.7,7.7,7.7,7.7,7.7,7.6,7.6,7.6,7.6,7.6,7.6,7.6,7.6,7.6,7.6,7.6,7.6,7.6,7.6,7.6,7.6,7.6,7.6,7.6,7.6,7.6,7.6,7.6,7.6,7.6,7.6,7.5,7.5,7.5,7.5,7.5,7.5,7.5,7.5,7.5,7.5,7.5,7.5,7.5,7.5,7.5,7.5,7.5,7.5,7.5,7.5,7.5,7.5,7.5,7.5,7.5,7.5,7.5,7.5,7.5,7.5,7.5,7.5,7.5,7.5,7.4,7.4,7.4,7.4,7.4,7.4,7.4,7.4,7.4,7.4,7.4,7.4,7.4,7.4,7.4,7.4,7.4,7.4,7.4,7.4,7.4,7.4,7.4,7.4,7.4,7.4,7.4,7.4,7.4,7.3],\"xaxis\":\"x\",\"y\":[533.32,292.57,187.99,13.18,4.68,13.09,132.37,448.13,11.28,1.2,53.08,6.52,162.8,82.95637614678898,0.61,151.06,120.52,414.98,82.95637614678898,292.98,37.62,14.68,13.65,20.17,356.45,10.57,6.86,67.12,116.87,60.96,167.74,169.71,380.96,623.28,56.67,341.26,333.13,18.35,74.27,127.97,2.01,44.99,91.12,59.07,40.22,82.95637614678898,26.9,3.08,3.49,227.14,153.63,217.39,51.69,936.63,167.01,162.59,3.23,57.37,3.4,106.95,25.56,141.32,206.44,27.3,228.43,233.91,17.74,138.8,363.02,257.7,115.65,183.64,100.5,48.02,82.95637614678898,32.28,532.17,100.19,258.36,318.3,82.95637614678898,25.36,408.08,124.98,2.28,23.62,303.0,7.76,177.0,47.7,35.29,5.01,5.88,161.03,5.2,2.2,6.74,132.09,42.34,102.52,222.49,277.31,259.75,274.08,189.41,127.49,0.29,50.86,107.1,130.13,70.24,10.1,9.03,257.76,124.87,0.09,146.41,304.36,228.76,169.27,59.89,15.29,54.12,760.51,1.4,21.0,45.51,145.0,200.81,22.49,82.95637614678898,35.05,93.57,35.71,255.95,48.04,33.05,75.28,40.98,0.69,248.75,75.59,82.95637614678898,38.35,20.3,25.44,34.96,56.82,294.98,26.86,136.02,17.11,3.36,35.89,32.39,210.59,96.92,69.95,251.5,128.25,424.65,1.48,92.17,85.71,19.0,75.61,18.33,171.03,88.5,176.74,72.31,3.33,109.71,39.83,209.02,148.78,3.19,46.88,232.6,121.46,107.5,15.7,215.4,0.15,0.92,208.54,3.73,292.0,54.7,143.49,31.66,36.58,0.01,137.39,3.9,27.1,31.49,234.02,0.79,2.21,38.32,83.3,0.86,1.74,2.14,27.85,2.13,0.13,125.07,73.82,34.3,82.95637614678898,364.0,0.51,10.64,95.0,186.83,125.07,301.96,400.74,66.47,209.36,79.24,52.42,0.04,24.34,5.66,95.72,47.11,182.2,255.11,52.88,368.05,14.26,16.17,486.29,36.25,458.99,11.23,86.2,15.79,73.34,84.24,8.81,102.46,31.86,56.23,195.0,9.7,0.33],\"yaxis\":\"y\",\"type\":\"scatter\"}],                        {\"template\":{\"data\":{\"histogram2dcontour\":[{\"type\":\"histogram2dcontour\",\"colorbar\":{\"outlinewidth\":0,\"ticks\":\"\"},\"colorscale\":[[0.0,\"#0d0887\"],[0.1111111111111111,\"#46039f\"],[0.2222222222222222,\"#7201a8\"],[0.3333333333333333,\"#9c179e\"],[0.4444444444444444,\"#bd3786\"],[0.5555555555555556,\"#d8576b\"],[0.6666666666666666,\"#ed7953\"],[0.7777777777777778,\"#fb9f3a\"],[0.8888888888888888,\"#fdca26\"],[1.0,\"#f0f921\"]]}],\"choropleth\":[{\"type\":\"choropleth\",\"colorbar\":{\"outlinewidth\":0,\"ticks\":\"\"}}],\"histogram2d\":[{\"type\":\"histogram2d\",\"colorbar\":{\"outlinewidth\":0,\"ticks\":\"\"},\"colorscale\":[[0.0,\"#0d0887\"],[0.1111111111111111,\"#46039f\"],[0.2222222222222222,\"#7201a8\"],[0.3333333333333333,\"#9c179e\"],[0.4444444444444444,\"#bd3786\"],[0.5555555555555556,\"#d8576b\"],[0.6666666666666666,\"#ed7953\"],[0.7777777777777778,\"#fb9f3a\"],[0.8888888888888888,\"#fdca26\"],[1.0,\"#f0f921\"]]}],\"heatmap\":[{\"type\":\"heatmap\",\"colorbar\":{\"outlinewidth\":0,\"ticks\":\"\"},\"colorscale\":[[0.0,\"#0d0887\"],[0.1111111111111111,\"#46039f\"],[0.2222222222222222,\"#7201a8\"],[0.3333333333333333,\"#9c179e\"],[0.4444444444444444,\"#bd3786\"],[0.5555555555555556,\"#d8576b\"],[0.6666666666666666,\"#ed7953\"],[0.7777777777777778,\"#fb9f3a\"],[0.8888888888888888,\"#fdca26\"],[1.0,\"#f0f921\"]]}],\"heatmapgl\":[{\"type\":\"heatmapgl\",\"colorbar\":{\"outlinewidth\":0,\"ticks\":\"\"},\"colorscale\":[[0.0,\"#0d0887\"],[0.1111111111111111,\"#46039f\"],[0.2222222222222222,\"#7201a8\"],[0.3333333333333333,\"#9c179e\"],[0.4444444444444444,\"#bd3786\"],[0.5555555555555556,\"#d8576b\"],[0.6666666666666666,\"#ed7953\"],[0.7777777777777778,\"#fb9f3a\"],[0.8888888888888888,\"#fdca26\"],[1.0,\"#f0f921\"]]}],\"contourcarpet\":[{\"type\":\"contourcarpet\",\"colorbar\":{\"outlinewidth\":0,\"ticks\":\"\"}}],\"contour\":[{\"type\":\"contour\",\"colorbar\":{\"outlinewidth\":0,\"ticks\":\"\"},\"colorscale\":[[0.0,\"#0d0887\"],[0.1111111111111111,\"#46039f\"],[0.2222222222222222,\"#7201a8\"],[0.3333333333333333,\"#9c179e\"],[0.4444444444444444,\"#bd3786\"],[0.5555555555555556,\"#d8576b\"],[0.6666666666666666,\"#ed7953\"],[0.7777777777777778,\"#fb9f3a\"],[0.8888888888888888,\"#fdca26\"],[1.0,\"#f0f921\"]]}],\"surface\":[{\"type\":\"surface\",\"colorbar\":{\"outlinewidth\":0,\"ticks\":\"\"},\"colorscale\":[[0.0,\"#0d0887\"],[0.1111111111111111,\"#46039f\"],[0.2222222222222222,\"#7201a8\"],[0.3333333333333333,\"#9c179e\"],[0.4444444444444444,\"#bd3786\"],[0.5555555555555556,\"#d8576b\"],[0.6666666666666666,\"#ed7953\"],[0.7777777777777778,\"#fb9f3a\"],[0.8888888888888888,\"#fdca26\"],[1.0,\"#f0f921\"]]}],\"mesh3d\":[{\"type\":\"mesh3d\",\"colorbar\":{\"outlinewidth\":0,\"ticks\":\"\"}}],\"scatter\":[{\"fillpattern\":{\"fillmode\":\"overlay\",\"size\":10,\"solidity\":0.2},\"type\":\"scatter\"}],\"parcoords\":[{\"type\":\"parcoords\",\"line\":{\"colorbar\":{\"outlinewidth\":0,\"ticks\":\"\"}}}],\"scatterpolargl\":[{\"type\":\"scatterpolargl\",\"marker\":{\"colorbar\":{\"outlinewidth\":0,\"ticks\":\"\"}}}],\"bar\":[{\"error_x\":{\"color\":\"#2a3f5f\"},\"error_y\":{\"color\":\"#2a3f5f\"},\"marker\":{\"line\":{\"color\":\"#E5ECF6\",\"width\":0.5},\"pattern\":{\"fillmode\":\"overlay\",\"size\":10,\"solidity\":0.2}},\"type\":\"bar\"}],\"scattergeo\":[{\"type\":\"scattergeo\",\"marker\":{\"colorbar\":{\"outlinewidth\":0,\"ticks\":\"\"}}}],\"scatterpolar\":[{\"type\":\"scatterpolar\",\"marker\":{\"colorbar\":{\"outlinewidth\":0,\"ticks\":\"\"}}}],\"histogram\":[{\"marker\":{\"pattern\":{\"fillmode\":\"overlay\",\"size\":10,\"solidity\":0.2}},\"type\":\"histogram\"}],\"scattergl\":[{\"type\":\"scattergl\",\"marker\":{\"colorbar\":{\"outlinewidth\":0,\"ticks\":\"\"}}}],\"scatter3d\":[{\"type\":\"scatter3d\",\"line\":{\"colorbar\":{\"outlinewidth\":0,\"ticks\":\"\"}},\"marker\":{\"colorbar\":{\"outlinewidth\":0,\"ticks\":\"\"}}}],\"scattermapbox\":[{\"type\":\"scattermapbox\",\"marker\":{\"colorbar\":{\"outlinewidth\":0,\"ticks\":\"\"}}}],\"scatterternary\":[{\"type\":\"scatterternary\",\"marker\":{\"colorbar\":{\"outlinewidth\":0,\"ticks\":\"\"}}}],\"scattercarpet\":[{\"type\":\"scattercarpet\",\"marker\":{\"colorbar\":{\"outlinewidth\":0,\"ticks\":\"\"}}}],\"carpet\":[{\"aaxis\":{\"endlinecolor\":\"#2a3f5f\",\"gridcolor\":\"white\",\"linecolor\":\"white\",\"minorgridcolor\":\"white\",\"startlinecolor\":\"#2a3f5f\"},\"baxis\":{\"endlinecolor\":\"#2a3f5f\",\"gridcolor\":\"white\",\"linecolor\":\"white\",\"minorgridcolor\":\"white\",\"startlinecolor\":\"#2a3f5f\"},\"type\":\"carpet\"}],\"table\":[{\"cells\":{\"fill\":{\"color\":\"#EBF0F8\"},\"line\":{\"color\":\"white\"}},\"header\":{\"fill\":{\"color\":\"#C8D4E3\"},\"line\":{\"color\":\"white\"}},\"type\":\"table\"}],\"barpolar\":[{\"marker\":{\"line\":{\"color\":\"#E5ECF6\",\"width\":0.5},\"pattern\":{\"fillmode\":\"overlay\",\"size\":10,\"solidity\":0.2}},\"type\":\"barpolar\"}],\"pie\":[{\"automargin\":true,\"type\":\"pie\"}]},\"layout\":{\"autotypenumbers\":\"strict\",\"colorway\":[\"#636efa\",\"#EF553B\",\"#00cc96\",\"#ab63fa\",\"#FFA15A\",\"#19d3f3\",\"#FF6692\",\"#B6E880\",\"#FF97FF\",\"#FECB52\"],\"font\":{\"color\":\"#2a3f5f\"},\"hovermode\":\"closest\",\"hoverlabel\":{\"align\":\"left\"},\"paper_bgcolor\":\"white\",\"plot_bgcolor\":\"#E5ECF6\",\"polar\":{\"bgcolor\":\"#E5ECF6\",\"angularaxis\":{\"gridcolor\":\"white\",\"linecolor\":\"white\",\"ticks\":\"\"},\"radialaxis\":{\"gridcolor\":\"white\",\"linecolor\":\"white\",\"ticks\":\"\"}},\"ternary\":{\"bgcolor\":\"#E5ECF6\",\"aaxis\":{\"gridcolor\":\"white\",\"linecolor\":\"white\",\"ticks\":\"\"},\"baxis\":{\"gridcolor\":\"white\",\"linecolor\":\"white\",\"ticks\":\"\"},\"caxis\":{\"gridcolor\":\"white\",\"linecolor\":\"white\",\"ticks\":\"\"}},\"coloraxis\":{\"colorbar\":{\"outlinewidth\":0,\"ticks\":\"\"}},\"colorscale\":{\"sequential\":[[0.0,\"#0d0887\"],[0.1111111111111111,\"#46039f\"],[0.2222222222222222,\"#7201a8\"],[0.3333333333333333,\"#9c179e\"],[0.4444444444444444,\"#bd3786\"],[0.5555555555555556,\"#d8576b\"],[0.6666666666666666,\"#ed7953\"],[0.7777777777777778,\"#fb9f3a\"],[0.8888888888888888,\"#fdca26\"],[1.0,\"#f0f921\"]],\"sequentialminus\":[[0.0,\"#0d0887\"],[0.1111111111111111,\"#46039f\"],[0.2222222222222222,\"#7201a8\"],[0.3333333333333333,\"#9c179e\"],[0.4444444444444444,\"#bd3786\"],[0.5555555555555556,\"#d8576b\"],[0.6666666666666666,\"#ed7953\"],[0.7777777777777778,\"#fb9f3a\"],[0.8888888888888888,\"#fdca26\"],[1.0,\"#f0f921\"]],\"diverging\":[[0,\"#8e0152\"],[0.1,\"#c51b7d\"],[0.2,\"#de77ae\"],[0.3,\"#f1b6da\"],[0.4,\"#fde0ef\"],[0.5,\"#f7f7f7\"],[0.6,\"#e6f5d0\"],[0.7,\"#b8e186\"],[0.8,\"#7fbc41\"],[0.9,\"#4d9221\"],[1,\"#276419\"]]},\"xaxis\":{\"gridcolor\":\"white\",\"linecolor\":\"white\",\"ticks\":\"\",\"title\":{\"standoff\":15},\"zerolinecolor\":\"white\",\"automargin\":true,\"zerolinewidth\":2},\"yaxis\":{\"gridcolor\":\"white\",\"linecolor\":\"white\",\"ticks\":\"\",\"title\":{\"standoff\":15},\"zerolinecolor\":\"white\",\"automargin\":true,\"zerolinewidth\":2},\"scene\":{\"xaxis\":{\"backgroundcolor\":\"#E5ECF6\",\"gridcolor\":\"white\",\"linecolor\":\"white\",\"showbackground\":true,\"ticks\":\"\",\"zerolinecolor\":\"white\",\"gridwidth\":2},\"yaxis\":{\"backgroundcolor\":\"#E5ECF6\",\"gridcolor\":\"white\",\"linecolor\":\"white\",\"showbackground\":true,\"ticks\":\"\",\"zerolinecolor\":\"white\",\"gridwidth\":2},\"zaxis\":{\"backgroundcolor\":\"#E5ECF6\",\"gridcolor\":\"white\",\"linecolor\":\"white\",\"showbackground\":true,\"ticks\":\"\",\"zerolinecolor\":\"white\",\"gridwidth\":2}},\"shapedefaults\":{\"line\":{\"color\":\"#2a3f5f\"}},\"annotationdefaults\":{\"arrowcolor\":\"#2a3f5f\",\"arrowhead\":0,\"arrowwidth\":1},\"geo\":{\"bgcolor\":\"white\",\"landcolor\":\"#E5ECF6\",\"subunitcolor\":\"white\",\"showland\":true,\"showlakes\":true,\"lakecolor\":\"white\"},\"title\":{\"x\":0.05},\"mapbox\":{\"style\":\"light\"}}},\"xaxis\":{\"anchor\":\"y\",\"domain\":[0.0,1.0],\"title\":{\"text\":\"rating\"}},\"yaxis\":{\"anchor\":\"x\",\"domain\":[0.0,1.0],\"title\":{\"text\":\"revenue\"}},\"coloraxis\":{\"colorbar\":{\"title\":{\"text\":\"rating\"}},\"colorscale\":[[0.0,\"#0d0887\"],[0.1111111111111111,\"#46039f\"],[0.2222222222222222,\"#7201a8\"],[0.3333333333333333,\"#9c179e\"],[0.4444444444444444,\"#bd3786\"],[0.5555555555555556,\"#d8576b\"],[0.6666666666666666,\"#ed7953\"],[0.7777777777777778,\"#fb9f3a\"],[0.8888888888888888,\"#fdca26\"],[1.0,\"#f0f921\"]]},\"legend\":{\"tracegroupgap\":0,\"itemsizing\":\"constant\"},\"margin\":{\"t\":60}},                        {\"responsive\": true}                    ).then(function(){\n",
       "                            \n",
       "var gd = document.getElementById('e29948db-a769-4d4a-b3b3-878ed5c695d2');\n",
       "var x = new MutationObserver(function (mutations, observer) {{\n",
       "        var display = window.getComputedStyle(gd).display;\n",
       "        if (!display || display === 'none') {{\n",
       "            console.log([gd, 'removed!']);\n",
       "            Plotly.purge(gd);\n",
       "            observer.disconnect();\n",
       "        }}\n",
       "}});\n",
       "\n",
       "// Listen for the removal of the full notebook cells\n",
       "var notebookContainer = gd.closest('#notebook-container');\n",
       "if (notebookContainer) {{\n",
       "    x.observe(notebookContainer, {childList: true});\n",
       "}}\n",
       "\n",
       "// Listen for the clearing of the current output cell\n",
       "var outputEl = gd.closest('.output');\n",
       "if (outputEl) {{\n",
       "    x.observe(outputEl, {childList: true});\n",
       "}}\n",
       "\n",
       "                        })                };                });            </script>        </div>"
      ]
     },
     "metadata": {},
     "output_type": "display_data"
    }
   ],
   "source": [
    "fig = px.scatter(top250, x = \"rating\", y=\"revenue\",\n",
    "\t         size=\"revenue\", color = \"rating\",\n",
    "                 hover_name = top250.index, size_max=60)\n",
    "fig.show()"
   ]
  },
  {
   "cell_type": "markdown",
   "id": "8a14e8b5",
   "metadata": {},
   "source": [
    "___\n",
    "\n",
    "<p style=\"text-align: center;\"><img src=\"https://techproeducation.com/wp-content/uploads/2022/01/Calisma-Yuzeyi-1-kopya-5-1-768x126.png\" class=\"img-fluid\" alt=\"TECHPRO\"></p>\n",
    "\n",
    "___"
   ]
  },
  {
   "cell_type": "code",
   "execution_count": null,
   "id": "e6fc1534",
   "metadata": {
    "ExecuteTime": {
     "end_time": "2023-05-12T14:32:30.594025Z",
     "start_time": "2023-05-12T14:32:30.571021Z"
    }
   },
   "outputs": [],
   "source": []
  }
 ],
 "metadata": {
  "hide_input": false,
  "kernelspec": {
   "display_name": "Python 3 (ipykernel)",
   "language": "python",
   "name": "python3"
  },
  "language_info": {
   "codemirror_mode": {
    "name": "ipython",
    "version": 3
   },
   "file_extension": ".py",
   "mimetype": "text/x-python",
   "name": "python",
   "nbconvert_exporter": "python",
   "pygments_lexer": "ipython3",
   "version": "3.10.9"
  },
  "nbTranslate": {
   "displayLangs": [
    "*"
   ],
   "hotkey": "alt-t",
   "langInMainMenu": true,
   "sourceLang": "en",
   "targetLang": "fr",
   "useGoogleTranslate": true
  },
  "toc": {
   "base_numbering": 1,
   "nav_menu": {},
   "number_sections": true,
   "sideBar": true,
   "skip_h1_title": false,
   "title_cell": "Table of Contents",
   "title_sidebar": "Contents",
   "toc_cell": false,
   "toc_position": {},
   "toc_section_display": true,
   "toc_window_display": false
  },
  "varInspector": {
   "cols": {
    "lenName": 16,
    "lenType": 16,
    "lenVar": 40
   },
   "kernels_config": {
    "python": {
     "delete_cmd_postfix": "",
     "delete_cmd_prefix": "del ",
     "library": "var_list.py",
     "varRefreshCmd": "print(var_dic_list())"
    },
    "r": {
     "delete_cmd_postfix": ") ",
     "delete_cmd_prefix": "rm(",
     "library": "var_list.r",
     "varRefreshCmd": "cat(var_dic_list()) "
    }
   },
   "types_to_exclude": [
    "module",
    "function",
    "builtin_function_or_method",
    "instance",
    "_Feature"
   ],
   "window_display": false
  }
 },
 "nbformat": 4,
 "nbformat_minor": 5
}
